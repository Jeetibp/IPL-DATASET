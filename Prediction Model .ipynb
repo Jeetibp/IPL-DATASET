{
 "cells": [
  {
   "cell_type": "markdown",
   "metadata": {},
   "source": [
    "## Imports & Load dataset:"
   ]
  },
  {
   "cell_type": "code",
   "execution_count": 2,
   "metadata": {},
   "outputs": [],
   "source": [
    "import pandas as pd\n",
    "import numpy as np\n",
    "import matplotlib.pyplot as plt\n",
    "\n",
    "import warnings\n",
    "warnings.filterwarnings('ignore')\n",
    "\n",
    "#to display all rows columns \n",
    "pd.set_option('display.max_rows', None)\n",
    "pd.set_option('display.max_columns', None)  \n",
    "pd.set_option('display.expand_frame_repr', False)\n",
    "pd.set_option('max_colwidth',None)"
   ]
  },
  {
   "cell_type": "code",
   "execution_count": 3,
   "metadata": {},
   "outputs": [],
   "source": [
    "ipl_df = pd.read_csv('deliveries.csv')"
   ]
  },
  {
   "cell_type": "code",
   "execution_count": 4,
   "metadata": {},
   "outputs": [],
   "source": [
    "ipl_df = ipl_df.rename(columns={'inning':'innings'})"
   ]
  },
  {
   "cell_type": "code",
   "execution_count": 107,
   "metadata": {},
   "outputs": [
    {
     "data": {
      "text/html": [
       "<div>\n",
       "<style scoped>\n",
       "    .dataframe tbody tr th:only-of-type {\n",
       "        vertical-align: middle;\n",
       "    }\n",
       "\n",
       "    .dataframe tbody tr th {\n",
       "        vertical-align: top;\n",
       "    }\n",
       "\n",
       "    .dataframe thead th {\n",
       "        text-align: right;\n",
       "    }\n",
       "</style>\n",
       "<table border=\"1\" class=\"dataframe\">\n",
       "  <thead>\n",
       "    <tr style=\"text-align: right;\">\n",
       "      <th></th>\n",
       "      <th>match_id</th>\n",
       "      <th>innings</th>\n",
       "      <th>batting_team</th>\n",
       "      <th>bowling_team</th>\n",
       "      <th>over</th>\n",
       "      <th>ball</th>\n",
       "      <th>batsman</th>\n",
       "      <th>bowler</th>\n",
       "      <th>non_striker</th>\n",
       "      <th>runs_of_bat</th>\n",
       "      <th>extra_runs</th>\n",
       "      <th>total_runs</th>\n",
       "      <th>extras_type</th>\n",
       "      <th>is_wicket</th>\n",
       "      <th>player_dismissed</th>\n",
       "      <th>dismissal_kind</th>\n",
       "      <th>fielder</th>\n",
       "      <th>isOut</th>\n",
       "    </tr>\n",
       "  </thead>\n",
       "  <tbody>\n",
       "    <tr>\n",
       "      <th>260919</th>\n",
       "      <td>1426312</td>\n",
       "      <td>2</td>\n",
       "      <td>Kolkata Knight Riders</td>\n",
       "      <td>Sunrisers Hyderabad</td>\n",
       "      <td>10</td>\n",
       "      <td>3</td>\n",
       "      <td>VR Iyer</td>\n",
       "      <td>Shahbaz Ahmed</td>\n",
       "      <td>SS Iyer</td>\n",
       "      <td>1</td>\n",
       "      <td>0</td>\n",
       "      <td>1</td>\n",
       "      <td>NaN</td>\n",
       "      <td>0</td>\n",
       "      <td>NaN</td>\n",
       "      <td>NaN</td>\n",
       "      <td>NaN</td>\n",
       "      <td>0</td>\n",
       "    </tr>\n",
       "  </tbody>\n",
       "</table>\n",
       "</div>"
      ],
      "text/plain": [
       "        match_id  innings           batting_team         bowling_team  over  ball  batsman         bowler non_striker  runs_of_bat  extra_runs  total_runs extras_type  is_wicket player_dismissed dismissal_kind fielder  isOut\n",
       "260919   1426312        2  Kolkata Knight Riders  Sunrisers Hyderabad    10     3  VR Iyer  Shahbaz Ahmed     SS Iyer            1           0           1         NaN          0              NaN            NaN     NaN      0"
      ]
     },
     "execution_count": 107,
     "metadata": {},
     "output_type": "execute_result"
    }
   ],
   "source": [
    "ipl_df.tail(1)"
   ]
  },
  {
   "cell_type": "code",
   "execution_count": 6,
   "metadata": {},
   "outputs": [
    {
     "data": {
      "text/plain": [
       "Index(['match_id', 'innings', 'batting_team', 'bowling_team', 'over', 'ball',\n",
       "       'batsman', 'bowler', 'non_striker', 'runs_of_bat', 'extra_runs',\n",
       "       'total_runs', 'extras_type', 'is_wicket', 'player_dismissed',\n",
       "       'dismissal_kind', 'fielder'],\n",
       "      dtype='object')"
      ]
     },
     "execution_count": 6,
     "metadata": {},
     "output_type": "execute_result"
    }
   ],
   "source": [
    "ipl_df.columns"
   ]
  },
  {
   "cell_type": "code",
   "execution_count": 7,
   "metadata": {},
   "outputs": [],
   "source": [
    "ipl_df = ipl_df[(ipl_df.innings == 1) | (ipl_df.innings == 2)]"
   ]
  },
  {
   "cell_type": "markdown",
   "metadata": {},
   "source": [
    "## Additional Colums:"
   ]
  },
  {
   "cell_type": "code",
   "execution_count": 9,
   "metadata": {},
   "outputs": [],
   "source": [
    "#ipl_df['total_runs'] = ipl_df.apply(lambda x: x['runs_off_bat'] + x['extras'], axis = 1)"
   ]
  },
  {
   "cell_type": "code",
   "execution_count": 10,
   "metadata": {},
   "outputs": [],
   "source": [
    "ipl_df['isOut'] = ipl_df['player_dismissed'].apply(lambda x: 1 if type(x) == type('str') else 0)"
   ]
  },
  {
   "cell_type": "code",
   "execution_count": 11,
   "metadata": {},
   "outputs": [
    {
     "data": {
      "text/plain": [
       "array(['Kolkata Knight Riders', 'Royal Challengers Bangalore',\n",
       "       'Chennai Super Kings', 'Kings XI Punjab', 'Rajasthan Royals',\n",
       "       'Delhi Daredevils', 'Mumbai Indians', 'Deccan Chargers',\n",
       "       'Kochi Tuskers Kerala', 'Pune Warriors', 'Sunrisers Hyderabad',\n",
       "       'Rising Pune Supergiants', 'Gujarat Lions',\n",
       "       'Rising Pune Supergiant', 'Delhi Capitals', 'Punjab Kings',\n",
       "       'Lucknow Super Giants', 'Gujarat Titans',\n",
       "       'Royal Challengers Bengaluru'], dtype=object)"
      ]
     },
     "execution_count": 11,
     "metadata": {},
     "output_type": "execute_result"
    }
   ],
   "source": [
    "ipl_df.batting_team.unique()"
   ]
  },
  {
   "cell_type": "code",
   "execution_count": 12,
   "metadata": {
    "scrolled": true
   },
   "outputs": [
    {
     "data": {
      "text/plain": [
       "total_runs\n",
       "1    2764\n",
       "0    2388\n",
       "4     795\n",
       "6     436\n",
       "2     420\n",
       "5      15\n",
       "3      11\n",
       "7       4\n",
       "Name: count, dtype: int64"
      ]
     },
     "execution_count": 12,
     "metadata": {},
     "output_type": "execute_result"
    }
   ],
   "source": [
    "ipl_df[ipl_df.batting_team == 'Punjab Kings'].total_runs.value_counts()"
   ]
  },
  {
   "cell_type": "code",
   "execution_count": 13,
   "metadata": {},
   "outputs": [
    {
     "data": {
      "text/plain": [
       "total_runs\n",
       "1    4611\n",
       "0    3696\n",
       "4    1365\n",
       "2     658\n",
       "6     545\n",
       "3      34\n",
       "5      17\n",
       "7       5\n",
       "Name: count, dtype: int64"
      ]
     },
     "execution_count": 13,
     "metadata": {},
     "output_type": "execute_result"
    }
   ],
   "source": [
    "ipl_df[ipl_df.batting_team == 'Delhi Capitals'].total_runs.value_counts()"
   ]
  },
  {
   "cell_type": "markdown",
   "metadata": {},
   "source": [
    "## Choose Teams:"
   ]
  },
  {
   "cell_type": "code",
   "execution_count": 109,
   "metadata": {},
   "outputs": [],
   "source": [
    "# t1 - bat first, t2 - bat second\n",
    "# Ex: MI vs RCB, (match_id: 1254058) \n",
    "\n",
    "t1 = 'Mumbai Indians'\n",
    "t2 = 'Punjab Kings'"
   ]
  },
  {
   "cell_type": "markdown",
   "metadata": {},
   "source": [
    "## Choose a Match b/w these Teams:"
   ]
  },
  {
   "cell_type": "code",
   "execution_count": 112,
   "metadata": {},
   "outputs": [
    {
     "data": {
      "text/plain": [
       "array([1254074, 1426271], dtype=int64)"
      ]
     },
     "execution_count": 112,
     "metadata": {},
     "output_type": "execute_result"
    }
   ],
   "source": [
    "ipl_df[(ipl_df.batting_team == t1) & (ipl_df.bowling_team == t2) & (ipl_df.innings == 1)].match_id.unique()"
   ]
  },
  {
   "cell_type": "code",
   "execution_count": 114,
   "metadata": {},
   "outputs": [],
   "source": [
    "required_match_id = 1426271"
   ]
  },
  {
   "cell_type": "code",
   "execution_count": 116,
   "metadata": {},
   "outputs": [
    {
     "data": {
      "text/html": [
       "<div>\n",
       "<style scoped>\n",
       "    .dataframe tbody tr th:only-of-type {\n",
       "        vertical-align: middle;\n",
       "    }\n",
       "\n",
       "    .dataframe tbody tr th {\n",
       "        vertical-align: top;\n",
       "    }\n",
       "\n",
       "    .dataframe thead th {\n",
       "        text-align: right;\n",
       "    }\n",
       "</style>\n",
       "<table border=\"1\" class=\"dataframe\">\n",
       "  <thead>\n",
       "    <tr style=\"text-align: right;\">\n",
       "      <th></th>\n",
       "      <th>match_id</th>\n",
       "      <th>innings</th>\n",
       "      <th>batting_team</th>\n",
       "      <th>bowling_team</th>\n",
       "      <th>over</th>\n",
       "      <th>ball</th>\n",
       "      <th>batsman</th>\n",
       "      <th>bowler</th>\n",
       "      <th>non_striker</th>\n",
       "      <th>runs_of_bat</th>\n",
       "      <th>extra_runs</th>\n",
       "      <th>total_runs</th>\n",
       "      <th>extras_type</th>\n",
       "      <th>is_wicket</th>\n",
       "      <th>player_dismissed</th>\n",
       "      <th>dismissal_kind</th>\n",
       "      <th>fielder</th>\n",
       "      <th>isOut</th>\n",
       "    </tr>\n",
       "  </thead>\n",
       "  <tbody>\n",
       "    <tr>\n",
       "      <th>251594</th>\n",
       "      <td>1426271</td>\n",
       "      <td>1</td>\n",
       "      <td>Mumbai Indians</td>\n",
       "      <td>Punjab Kings</td>\n",
       "      <td>0</td>\n",
       "      <td>1</td>\n",
       "      <td>Ishan Kishan</td>\n",
       "      <td>LS Livingstone</td>\n",
       "      <td>RG Sharma</td>\n",
       "      <td>0</td>\n",
       "      <td>0</td>\n",
       "      <td>0</td>\n",
       "      <td>NaN</td>\n",
       "      <td>0</td>\n",
       "      <td>NaN</td>\n",
       "      <td>NaN</td>\n",
       "      <td>NaN</td>\n",
       "      <td>0</td>\n",
       "    </tr>\n",
       "    <tr>\n",
       "      <th>251595</th>\n",
       "      <td>1426271</td>\n",
       "      <td>1</td>\n",
       "      <td>Mumbai Indians</td>\n",
       "      <td>Punjab Kings</td>\n",
       "      <td>0</td>\n",
       "      <td>2</td>\n",
       "      <td>Ishan Kishan</td>\n",
       "      <td>LS Livingstone</td>\n",
       "      <td>RG Sharma</td>\n",
       "      <td>1</td>\n",
       "      <td>0</td>\n",
       "      <td>1</td>\n",
       "      <td>NaN</td>\n",
       "      <td>0</td>\n",
       "      <td>NaN</td>\n",
       "      <td>NaN</td>\n",
       "      <td>NaN</td>\n",
       "      <td>0</td>\n",
       "    </tr>\n",
       "    <tr>\n",
       "      <th>251596</th>\n",
       "      <td>1426271</td>\n",
       "      <td>1</td>\n",
       "      <td>Mumbai Indians</td>\n",
       "      <td>Punjab Kings</td>\n",
       "      <td>0</td>\n",
       "      <td>3</td>\n",
       "      <td>RG Sharma</td>\n",
       "      <td>LS Livingstone</td>\n",
       "      <td>Ishan Kishan</td>\n",
       "      <td>1</td>\n",
       "      <td>0</td>\n",
       "      <td>1</td>\n",
       "      <td>NaN</td>\n",
       "      <td>0</td>\n",
       "      <td>NaN</td>\n",
       "      <td>NaN</td>\n",
       "      <td>NaN</td>\n",
       "      <td>0</td>\n",
       "    </tr>\n",
       "    <tr>\n",
       "      <th>251597</th>\n",
       "      <td>1426271</td>\n",
       "      <td>1</td>\n",
       "      <td>Mumbai Indians</td>\n",
       "      <td>Punjab Kings</td>\n",
       "      <td>0</td>\n",
       "      <td>4</td>\n",
       "      <td>Ishan Kishan</td>\n",
       "      <td>LS Livingstone</td>\n",
       "      <td>RG Sharma</td>\n",
       "      <td>0</td>\n",
       "      <td>0</td>\n",
       "      <td>0</td>\n",
       "      <td>NaN</td>\n",
       "      <td>0</td>\n",
       "      <td>NaN</td>\n",
       "      <td>NaN</td>\n",
       "      <td>NaN</td>\n",
       "      <td>0</td>\n",
       "    </tr>\n",
       "    <tr>\n",
       "      <th>251598</th>\n",
       "      <td>1426271</td>\n",
       "      <td>1</td>\n",
       "      <td>Mumbai Indians</td>\n",
       "      <td>Punjab Kings</td>\n",
       "      <td>0</td>\n",
       "      <td>5</td>\n",
       "      <td>Ishan Kishan</td>\n",
       "      <td>LS Livingstone</td>\n",
       "      <td>RG Sharma</td>\n",
       "      <td>1</td>\n",
       "      <td>0</td>\n",
       "      <td>1</td>\n",
       "      <td>NaN</td>\n",
       "      <td>0</td>\n",
       "      <td>NaN</td>\n",
       "      <td>NaN</td>\n",
       "      <td>NaN</td>\n",
       "      <td>0</td>\n",
       "    </tr>\n",
       "    <tr>\n",
       "      <th>251599</th>\n",
       "      <td>1426271</td>\n",
       "      <td>1</td>\n",
       "      <td>Mumbai Indians</td>\n",
       "      <td>Punjab Kings</td>\n",
       "      <td>0</td>\n",
       "      <td>6</td>\n",
       "      <td>RG Sharma</td>\n",
       "      <td>LS Livingstone</td>\n",
       "      <td>Ishan Kishan</td>\n",
       "      <td>4</td>\n",
       "      <td>0</td>\n",
       "      <td>4</td>\n",
       "      <td>NaN</td>\n",
       "      <td>0</td>\n",
       "      <td>NaN</td>\n",
       "      <td>NaN</td>\n",
       "      <td>NaN</td>\n",
       "      <td>0</td>\n",
       "    </tr>\n",
       "  </tbody>\n",
       "</table>\n",
       "</div>"
      ],
      "text/plain": [
       "        match_id  innings    batting_team  bowling_team  over  ball       batsman          bowler   non_striker  runs_of_bat  extra_runs  total_runs extras_type  is_wicket player_dismissed dismissal_kind fielder  isOut\n",
       "251594   1426271        1  Mumbai Indians  Punjab Kings     0     1  Ishan Kishan  LS Livingstone     RG Sharma            0           0           0         NaN          0              NaN            NaN     NaN      0\n",
       "251595   1426271        1  Mumbai Indians  Punjab Kings     0     2  Ishan Kishan  LS Livingstone     RG Sharma            1           0           1         NaN          0              NaN            NaN     NaN      0\n",
       "251596   1426271        1  Mumbai Indians  Punjab Kings     0     3     RG Sharma  LS Livingstone  Ishan Kishan            1           0           1         NaN          0              NaN            NaN     NaN      0\n",
       "251597   1426271        1  Mumbai Indians  Punjab Kings     0     4  Ishan Kishan  LS Livingstone     RG Sharma            0           0           0         NaN          0              NaN            NaN     NaN      0\n",
       "251598   1426271        1  Mumbai Indians  Punjab Kings     0     5  Ishan Kishan  LS Livingstone     RG Sharma            1           0           1         NaN          0              NaN            NaN     NaN      0\n",
       "251599   1426271        1  Mumbai Indians  Punjab Kings     0     6     RG Sharma  LS Livingstone  Ishan Kishan            4           0           4         NaN          0              NaN            NaN     NaN      0"
      ]
     },
     "execution_count": 116,
     "metadata": {},
     "output_type": "execute_result"
    }
   ],
   "source": [
    "ipl_df[ipl_df.match_id == required_match_id].head(6)"
   ]
  },
  {
   "cell_type": "code",
   "execution_count": 118,
   "metadata": {},
   "outputs": [],
   "source": [
    "t1_outs = ipl_df[ipl_df.batting_team == t1].isOut.sum()\n",
    "t2_outs = ipl_df[ipl_df.batting_team == t2].isOut.sum()"
   ]
  },
  {
   "cell_type": "code",
   "execution_count": 120,
   "metadata": {},
   "outputs": [],
   "source": [
    "t1_outcomes = ipl_df[ipl_df.batting_team == t1].total_runs.value_counts()\n",
    "t2_outcomes = ipl_df[ipl_df.batting_team == t2].total_runs.value_counts()"
   ]
  },
  {
   "cell_type": "code",
   "execution_count": 122,
   "metadata": {},
   "outputs": [],
   "source": [
    "outcomes = [0, 1, 2, 3, 4, 6, 'w']"
   ]
  },
  {
   "cell_type": "code",
   "execution_count": 124,
   "metadata": {},
   "outputs": [],
   "source": [
    "t1_outcomes_count = []\n",
    "for outcome in outcomes:\n",
    "    try:\n",
    "        if outcome != 'w':\n",
    "            t1_outcomes_count.append(t1_outcomes[outcome])\n",
    "        else:\n",
    "            t1_outcomes_count.append(t1_outs)\n",
    "    except:\n",
    "        t1_outcomes_count.append(0)\n",
    "        \n",
    "\n",
    "t2_outcomes_count = []\n",
    "for outcome in outcomes:\n",
    "    try:\n",
    "        if outcome != 'w':\n",
    "            t2_outcomes_count.append(t2_outcomes[outcome])\n",
    "        else:\n",
    "            t2_outcomes_count.append(t2_outs)\n",
    "    except:\n",
    "        t2_outcomes_count.append(0)"
   ]
  },
  {
   "cell_type": "code",
   "execution_count": 126,
   "metadata": {},
   "outputs": [
    {
     "data": {
      "text/plain": [
       "[11171, 12756, 1939, 111, 3688, 1672, 1568]"
      ]
     },
     "execution_count": 126,
     "metadata": {},
     "output_type": "execute_result"
    }
   ],
   "source": [
    "t1_outcomes_count"
   ]
  },
  {
   "cell_type": "code",
   "execution_count": 128,
   "metadata": {},
   "outputs": [
    {
     "data": {
      "text/plain": [
       "[2388, 2764, 420, 11, 795, 436, 371]"
      ]
     },
     "execution_count": 128,
     "metadata": {},
     "output_type": "execute_result"
    }
   ],
   "source": [
    "t2_outcomes_count"
   ]
  },
  {
   "cell_type": "code",
   "execution_count": 130,
   "metadata": {},
   "outputs": [],
   "source": [
    "t1_pb = [i/sum(t1_outcomes_count) for i in t1_outcomes_count]\n",
    "t2_pb = [i/sum(t2_outcomes_count) for i in t2_outcomes_count]"
   ]
  },
  {
   "cell_type": "code",
   "execution_count": 132,
   "metadata": {},
   "outputs": [
    {
     "data": {
      "text/plain": [
       "([0.33949247834675583,\n",
       "  0.38766144962771615,\n",
       "  0.058927214709010786,\n",
       "  0.0033733475155751404,\n",
       "  0.112080230967938,\n",
       "  0.05081294636073545,\n",
       "  0.04765233247226865],\n",
       " [0.3323590814196242,\n",
       "  0.38469032707028533,\n",
       "  0.05845511482254697,\n",
       "  0.0015309672929714683,\n",
       "  0.11064718162839249,\n",
       "  0.060681976339596384,\n",
       "  0.05163535142658316])"
      ]
     },
     "execution_count": 132,
     "metadata": {},
     "output_type": "execute_result"
    }
   ],
   "source": [
    "t1_pb, t2_pb"
   ]
  },
  {
   "cell_type": "code",
   "execution_count": 134,
   "metadata": {},
   "outputs": [],
   "source": [
    "t1_cum_pb = list(np.cumsum(t1_pb))\n",
    "t2_cum_pb = list(np.cumsum(t2_pb))"
   ]
  },
  {
   "cell_type": "code",
   "execution_count": 136,
   "metadata": {},
   "outputs": [
    {
     "data": {
      "text/plain": [
       "Index(['match_id', 'innings', 'batting_team', 'bowling_team', 'over', 'ball',\n",
       "       'batsman', 'bowler', 'non_striker', 'runs_of_bat', 'extra_runs',\n",
       "       'total_runs', 'extras_type', 'is_wicket', 'player_dismissed',\n",
       "       'dismissal_kind', 'fielder', 'isOut'],\n",
       "      dtype='object')"
      ]
     },
     "execution_count": 136,
     "metadata": {},
     "output_type": "execute_result"
    }
   ],
   "source": [
    "ipl_df.columns"
   ]
  },
  {
   "cell_type": "code",
   "execution_count": 138,
   "metadata": {},
   "outputs": [
    {
     "name": "stdout",
     "output_type": "stream",
     "text": [
      "Predicted Runs: 168\n",
      "Predicted Wickets: 0\n",
      "Run Rate: 8.40\n"
     ]
    }
   ],
   "source": [
    "import numpy as np\n",
    "import pandas as pd\n",
    "\n",
    "# Load IPL dataset (assuming ipl_df is already loaded as a DataFrame)\n",
    "# Filter only first innings data\n",
    "first_innings_df = ipl_df[ipl_df['innings'] == 1]\n",
    "\n",
    "# Calculate probabilities of runs and wickets\n",
    "run_counts = first_innings_df['runs_of_bat'].value_counts(normalize=True).sort_index()\n",
    "wicket_prob = first_innings_df['isOut'].mean()\n",
    "\n",
    "i1p_0 = run_counts.get(0, 0)\n",
    "i1p_1 = i1p_0 + run_counts.get(1, 0)\n",
    "i1p_2 = i1p_1 + run_counts.get(2, 0)\n",
    "i1p_3 = i1p_2 + run_counts.get(3, 0)\n",
    "i1p_4 = i1p_3 + run_counts.get(4, 0)\n",
    "i1p_6 = i1p_4 + run_counts.get(6, 0)\n",
    "i1p_w = wicket_prob\n",
    "\n",
    "# Simulate an innings (120 balls)\n",
    "pred_runs = 0\n",
    "pred_wks = 0\n",
    "\n",
    "for _ in range(120):\n",
    "    r_value = np.random.random()\n",
    "    \n",
    "    if r_value <= i1p_0:\n",
    "        pred_runs += 0\n",
    "    elif r_value <= i1p_1:\n",
    "        pred_runs += 1\n",
    "    elif r_value <= i1p_2:\n",
    "        pred_runs += 2\n",
    "    elif r_value <= i1p_3:\n",
    "        pred_runs += 3\n",
    "    elif r_value <= i1p_4:\n",
    "        pred_runs += 4\n",
    "    elif r_value <= i1p_6:\n",
    "        pred_runs += 6\n",
    "    else:\n",
    "        pred_runs += 0\n",
    "        pred_wks += 1\n",
    "        if pred_wks == 10:\n",
    "            break\n",
    "\n",
    "# Analysis\n",
    "balls_faced = 120 if pred_wks < 10 else (pred_wks * 6)\n",
    "runs_per_over = pred_runs / (balls_faced / 6)\n",
    "\n",
    "print(f\"Predicted Runs: {pred_runs}\")\n",
    "print(f\"Predicted Wickets: {pred_wks}\")\n",
    "print(f\"Run Rate: {runs_per_over:.2f}\")\n"
   ]
  },
  {
   "cell_type": "markdown",
   "metadata": {},
   "source": [
    "## Function: 1st Innings runs prediction "
   ]
  },
  {
   "cell_type": "code",
   "execution_count": 141,
   "metadata": {},
   "outputs": [],
   "source": [
    "def innings_1_runs(curr_overs, curr_score, curr_wickets):\n",
    "    # Extract overs and balls safely\n",
    "    over_number, ball_number = extract_overs_balls(curr_overs)\n",
    "    \n",
    "    if ball_number >= 6:\n",
    "        ball_number = 6\n",
    "    current_balls = over_number * 6 + ball_number \n",
    "    leftover_balls = 120 - current_balls\n",
    "\n",
    "    pred_runs = curr_score\n",
    "    pred_wks = curr_wickets\n",
    "\n",
    "    for _ in range(leftover_balls):\n",
    "        r_value = np.random.random()\n",
    "\n",
    "        if r_value <= i1p_0:\n",
    "            pred_runs += 0\n",
    "        elif r_value <= i1p_1:\n",
    "            pred_runs += 1\n",
    "        elif r_value <= i1p_2:\n",
    "            pred_runs += 2\n",
    "        elif r_value <= i1p_3:\n",
    "            pred_runs += 3\n",
    "        elif r_value <= i1p_4:\n",
    "            pred_runs += 4\n",
    "        elif r_value <= i1p_6:\n",
    "            pred_runs += 6\n",
    "        else:\n",
    "            pred_wks += 1\n",
    "            if pred_wks == 10:\n",
    "                break\n",
    "\n",
    "    return pred_runs\n"
   ]
  },
  {
   "cell_type": "code",
   "execution_count": 143,
   "metadata": {},
   "outputs": [],
   "source": [
    "import numpy as np\n",
    "import pandas as pd\n",
    "\n",
    "# Load IPL dataset (assuming ipl_df is already loaded as a DataFrame)\n",
    "# Filter only first innings data\n",
    "first_innings_df = ipl_df[ipl_df['innings'] == 1]\n",
    "\n",
    "# Calculate probabilities of runs and wickets\n",
    "run_counts = first_innings_df['runs_of_bat'].value_counts(normalize=True).sort_index()\n",
    "wicket_prob = first_innings_df['isOut'].mean()\n",
    "\n",
    "i1p_0 = run_counts.get(0, 0)\n",
    "i1p_1 = i1p_0 + run_counts.get(1, 0)\n",
    "i1p_2 = i1p_1 + run_counts.get(2, 0)\n",
    "i1p_3 = i1p_2 + run_counts.get(3, 0)\n",
    "i1p_4 = i1p_3 + run_counts.get(4, 0)\n",
    "i1p_6 = i1p_4 + run_counts.get(6, 0)\n",
    "i1p_w = wicket_prob\n",
    "\n",
    "# Function to predict first innings runs\n",
    "def innings_1_runs(curr_overs, curr_score, curr_wickets):\n",
    "    # initialize runs, wickets\n",
    "    pred_runs = curr_score\n",
    "    pred_wks = curr_wickets\n",
    "    \n",
    "    # calculate leftover balls\n",
    "    over_number = int(str(curr_overs).split('.')[0])\n",
    "    ball_number = int(str(curr_overs).split('.')[1])\n",
    "    \n",
    "    if ball_number >= 6:\n",
    "        ball_number = 6\n",
    "    current_balls = over_number * 6 + ball_number \n",
    "    leftover_balls = 120 - current_balls\n",
    "\n",
    "    for _ in range(leftover_balls):\n",
    "        r_value = np.random.random()\n",
    "\n",
    "        if r_value <= i1p_0:\n",
    "            pred_runs += 0\n",
    "        elif r_value <= i1p_1:\n",
    "            pred_runs += 1\n",
    "        elif r_value <= i1p_2:\n",
    "            pred_runs += 2\n",
    "        elif r_value <= i1p_3:\n",
    "            pred_runs += 3\n",
    "        elif r_value <= i1p_4:\n",
    "            pred_runs += 4\n",
    "        elif r_value <= i1p_6:\n",
    "            pred_runs += 6\n",
    "        else:\n",
    "            pred_runs += 0\n",
    "            pred_wks += 1\n",
    "            if pred_wks == 10:\n",
    "                break\n",
    "\n",
    "    return pred_runs\n"
   ]
  },
  {
   "cell_type": "code",
   "execution_count": 145,
   "metadata": {},
   "outputs": [
    {
     "data": {
      "text/plain": [
       "144"
      ]
     },
     "execution_count": 145,
     "metadata": {},
     "output_type": "execute_result"
    }
   ],
   "source": [
    "# innings_1_runs(curr_overs, curr_score, curr_wickets)\n",
    "innings_1_runs(10.0, 75, 0)"
   ]
  },
  {
   "cell_type": "markdown",
   "metadata": {},
   "source": [
    "## Function: 2nd Innings runs prediction "
   ]
  },
  {
   "cell_type": "code",
   "execution_count": 148,
   "metadata": {},
   "outputs": [],
   "source": [
    "def innings_2_runs(curr_overs, curr_score, curr_wickets, target):\n",
    "    # Extract overs and balls safely\n",
    "    over_number, ball_number = extract_overs_balls(curr_overs)\n",
    "\n",
    "    if ball_number >= 6:\n",
    "        ball_number = 6\n",
    "    current_balls = over_number * 6 + ball_number \n",
    "    leftover_balls = 120 - current_balls\n",
    "\n",
    "    pred_runs = curr_score\n",
    "    pred_wks = curr_wickets\n",
    "\n",
    "    for _ in range(leftover_balls):\n",
    "        r_value = np.random.random()\n",
    "\n",
    "        if r_value <= i2p_0:\n",
    "            pred_runs += 0\n",
    "        elif r_value <= i2p_1:\n",
    "            pred_runs += 1\n",
    "        elif r_value <= i2p_2:\n",
    "            pred_runs += 2\n",
    "        elif r_value <= i2p_3:\n",
    "            pred_runs += 3\n",
    "        elif r_value <= i2p_4:\n",
    "            pred_runs += 4\n",
    "        elif r_value <= i2p_6:\n",
    "            pred_runs += 6\n",
    "        else:\n",
    "            pred_wks += 1\n",
    "            if pred_wks == 10:\n",
    "                break\n",
    "        \n",
    "        if pred_runs > target:\n",
    "            break\n",
    "\n",
    "    return pred_runs\n"
   ]
  },
  {
   "cell_type": "code",
   "execution_count": 150,
   "metadata": {},
   "outputs": [],
   "source": [
    "def innings_2_runs(curr_overs, curr_score, curr_wickets, target):\n",
    "    # Cumulative probabilities for second innings\n",
    "    i2p_0 = t2_cum_pb[0]\n",
    "    i2p_1 = t2_cum_pb[1]\n",
    "    i2p_2 = t2_cum_pb[2]\n",
    "    i2p_3 = t2_cum_pb[3]\n",
    "    i2p_4 = t2_cum_pb[4]\n",
    "    i2p_6 = t2_cum_pb[5]\n",
    "    i2p_w = 1\n",
    "\n",
    "    # Initialize predicted runs and wickets\n",
    "    pred_runs = curr_score\n",
    "    pred_wks = curr_wickets\n",
    "    \n",
    "    # Convert overs to ball count\n",
    "    over_number = int(str(curr_overs).split('.')[0])\n",
    "    ball_number = int(str(curr_overs).split('.')[1])\n",
    "    \n",
    "    if ball_number >= 6:\n",
    "        ball_number = 6\n",
    "    current_balls = over_number * 6 + ball_number \n",
    "    leftover_balls = 120 - current_balls\n",
    "\n",
    "    # Simulate remaining balls based on probability distribution\n",
    "    for _ in range(leftover_balls):\n",
    "        r_value = np.random.random()\n",
    "\n",
    "        if r_value <= i2p_0:\n",
    "            pred_runs += 0\n",
    "        elif r_value <= i2p_1:\n",
    "            pred_runs += 1\n",
    "        elif r_value <= i2p_2:\n",
    "            pred_runs += 2\n",
    "        elif r_value <= i2p_3:\n",
    "            pred_runs += 3\n",
    "        elif r_value <= i2p_4:\n",
    "            pred_runs += 4\n",
    "        elif r_value <= i2p_6:\n",
    "            pred_runs += 6\n",
    "        else:\n",
    "            pred_runs += 0\n",
    "            pred_wks += 1\n",
    "            if pred_wks == 10:\n",
    "                break\n",
    "        \n",
    "        # Stop simulation if target is reached\n",
    "        if pred_runs > target:\n",
    "            break\n",
    "\n",
    "    return pred_runs\n"
   ]
  },
  {
   "cell_type": "code",
   "execution_count": 152,
   "metadata": {},
   "outputs": [
    {
     "data": {
      "text/plain": [
       "159"
      ]
     },
     "execution_count": 152,
     "metadata": {},
     "output_type": "execute_result"
    }
   ],
   "source": [
    "# innings_2_runs(curr_overs, curr_score, curr_wickets, target)\n",
    "innings_2_runs(10.0, 100, 4, 167)"
   ]
  },
  {
   "cell_type": "code",
   "execution_count": 154,
   "metadata": {},
   "outputs": [],
   "source": [
    "mdf = ipl_df[ipl_df.match_id == required_match_id]"
   ]
  },
  {
   "cell_type": "code",
   "execution_count": 156,
   "metadata": {},
   "outputs": [],
   "source": [
    "mdf.reset_index(inplace = True, drop = True)"
   ]
  },
  {
   "cell_type": "code",
   "execution_count": 158,
   "metadata": {},
   "outputs": [],
   "source": [
    "df_ing1 = mdf[mdf.innings == 1]\n",
    "df_ing2 = mdf[mdf.innings == 2]"
   ]
  },
  {
   "cell_type": "code",
   "execution_count": 160,
   "metadata": {},
   "outputs": [],
   "source": [
    "df_ing1 = df_ing1.sort_values(['over', 'ball'], ascending=[True, True], ignore_index=True)\n",
    "df_ing2 = df_ing2.sort_values(['over', 'ball'], ascending=[True, True], ignore_index=True)\n"
   ]
  },
  {
   "cell_type": "code",
   "execution_count": 162,
   "metadata": {},
   "outputs": [],
   "source": [
    "df_ing1.reset_index(inplace = True, drop = True)\n",
    "df_ing2.reset_index(inplace = True, drop = True)"
   ]
  },
  {
   "cell_type": "markdown",
   "metadata": {},
   "source": [
    "## Runs prediction: 1st Innings"
   ]
  },
  {
   "cell_type": "code",
   "execution_count": 165,
   "metadata": {},
   "outputs": [],
   "source": [
    "curr_score = 0\n",
    "curr_wickets = 0\n",
    "curr_overs = 0.0\n",
    "\n",
    "ing1_runs_pred = []\n",
    "\n",
    "for _, row in df_ing1.iterrows():\n",
    "    curr_score += row.total_runs\n",
    "    curr_overs = row.over + (row.ball / 10)  # More accurate overs calculation\n",
    "    curr_wickets += row.isOut\n",
    "\n",
    "    prediction = innings_1_runs(curr_overs, curr_score, curr_wickets)\n",
    "#     print(f'Score: {curr_score}, Overs: {curr_overs}, Wickets: {curr_wickets}, Prediction: {prediction}')\n",
    "    \n",
    "    ing1_runs_pred.append(prediction)\n"
   ]
  },
  {
   "cell_type": "code",
   "execution_count": 167,
   "metadata": {},
   "outputs": [],
   "source": [
    "ing1_actual_score = sum(df_ing1.total_runs)"
   ]
  },
  {
   "cell_type": "markdown",
   "metadata": {},
   "source": [
    "## Runs prediction: 2nd Innings"
   ]
  },
  {
   "cell_type": "code",
   "execution_count": 170,
   "metadata": {},
   "outputs": [],
   "source": [
    "curr_score = 0\n",
    "curr_wickets = 0\n",
    "curr_overs = 0.0\n",
    "target = ing1_actual_score  # First innings actual score\n",
    "\n",
    "ing2_runs_pred = []\n",
    "\n",
    "for _, row in df_ing2.iterrows():\n",
    "    curr_score += row.total_runs\n",
    "    curr_overs = row.over + (row.ball / 10)  # More accurate overs calculation\n",
    "    curr_wickets += row.isOut\n",
    "\n",
    "    prediction = innings_2_runs(curr_overs, curr_score, curr_wickets, target)\n",
    "    \n",
    "#     print(f'Target: {target}')\n",
    "#     print(f'Score: {curr_score}, Overs: {curr_overs}, Wickets: {curr_wickets}, Prediction: {prediction}')\n",
    "    \n",
    "    ing2_runs_pred.append(prediction)\n"
   ]
  },
  {
   "cell_type": "markdown",
   "metadata": {},
   "source": [
    "## Runs prediction chart: 1st Innings"
   ]
  },
  {
   "cell_type": "code",
   "execution_count": 173,
   "metadata": {},
   "outputs": [
    {
     "data": {
      "image/png": "[encoded data removed]",
      "text/plain": [
       "<Figure size 1600x600 with 1 Axes>"
      ]
     },
     "metadata": {},
     "output_type": "display_data"
    }
   ],
   "source": [
    "plt.figure(figsize = (16, 6))\n",
    "plt.scatter([i for i in range(len(ing1_runs_pred))], ing1_runs_pred, alpha = 0.5, label = 'pred', color = 'red')\n",
    "plt.ylim(0, ing1_actual_score + 30)\n",
    "plt.axhline(ing1_actual_score, ls = '--', label = 'actual', color = 'green')\n",
    "plt.title('First Innings Runs - Prediction vs Actual (' + t1 + ': ' + str(ing1_actual_score) +  ')', fontsize = 16)\n",
    "plt.legend()\n",
    "plt.xlabel('Ball No')\n",
    "plt.ylabel('Runs')\n",
    "plt.show()"
   ]
  },
  {
   "cell_type": "markdown",
   "metadata": {},
   "source": [
    "### Error in 1st Innings runs:"
   ]
  },
  {
   "cell_type": "code",
   "execution_count": 176,
   "metadata": {},
   "outputs": [
    {
     "data": {
      "text/plain": [
       "25.976"
      ]
     },
     "execution_count": 176,
     "metadata": {},
     "output_type": "execute_result"
    }
   ],
   "source": [
    "np.mean([abs(i - ing1_actual_score) for i in ing1_runs_pred])"
   ]
  },
  {
   "cell_type": "code",
   "execution_count": 178,
   "metadata": {},
   "outputs": [],
   "source": [
    "ing2_actual_score = sum(df_ing2.total_runs)"
   ]
  },
  {
   "cell_type": "markdown",
   "metadata": {},
   "source": [
    "## Runs prediction chart: 2nd Innings"
   ]
  },
  {
   "cell_type": "code",
   "execution_count": 181,
   "metadata": {},
   "outputs": [
    {
     "data": {
      "image/png": "[encoded data removed]",
      "text/plain": [
       "<Figure size 1600x600 with 1 Axes>"
      ]
     },
     "metadata": {},
     "output_type": "display_data"
    }
   ],
   "source": [
    "plt.figure(figsize = (16, 6))\n",
    "plt.scatter([i for i in range(len(ing2_runs_pred))], ing2_runs_pred, alpha = 0.5, label = 'pred', color = 'red')\n",
    "plt.ylim(0, ing2_actual_score + 30)\n",
    "plt.axhline(ing2_actual_score, ls = '--', label = 'actual', color = 'green')\n",
    "plt.title('Second Innings Runs - Prediction vs Actual (' + t2 + ': ' + str(ing2_actual_score) +  ')', fontsize = 16)\n",
    "plt.xlabel('Ball No')\n",
    "plt.ylabel('Runs')\n",
    "plt.legend()\n",
    "plt.show()"
   ]
  },
  {
   "cell_type": "markdown",
   "metadata": {},
   "source": [
    "### Error in 2nd Innings runs:"
   ]
  },
  {
   "cell_type": "code",
   "execution_count": 184,
   "metadata": {},
   "outputs": [
    {
     "data": {
      "text/plain": [
       "23.188976377952756"
      ]
     },
     "execution_count": 184,
     "metadata": {},
     "output_type": "execute_result"
    }
   ],
   "source": [
    "np.mean([abs(i - ing2_actual_score) for i in ing2_runs_pred])"
   ]
  },
  {
   "cell_type": "markdown",
   "metadata": {},
   "source": [
    "## Win predictions: 1st Innings"
   ]
  },
  {
   "cell_type": "markdown",
   "metadata": {},
   "source": [
    "## Win predictions: 2nd Innings"
   ]
  },
  {
   "cell_type": "markdown",
   "metadata": {},
   "source": [
    "## Win Percentage Chart:"
   ]
  },
  {
   "cell_type": "code",
   "execution_count": 201,
   "metadata": {},
   "outputs": [],
   "source": [
    "matches = pd.read_csv('matches.csv')"
   ]
  },
  {
   "cell_type": "code",
   "execution_count": 205,
   "metadata": {},
   "outputs": [],
   "source": [
    "md = matches"
   ]
  },
  {
   "cell_type": "code",
   "execution_count": 207,
   "metadata": {},
   "outputs": [],
   "source": [
    "md = md.rename(columns={'id':'match_id'})"
   ]
  },
  {
   "cell_type": "code",
   "execution_count": 209,
   "metadata": {},
   "outputs": [],
   "source": [
    "comb=pd.merge(ipl_df,md,on = 'match_id',how ='left')\n"
   ]
  },
  {
   "cell_type": "code",
   "execution_count": 219,
   "metadata": {},
   "outputs": [],
   "source": [
    "team_name = \"Punjab Kings\"  # Change this dynamically\n",
    "\n",
    "# Filter matches where the selected team batted first\n",
    "df_filtered = comb[\n",
    "    (comb['innings'] == 1) &  \n",
    "    (comb['batting_team'] == team_name) &  \n",
    "    (~comb['winner'].isna())  # Ensure the match had a winner\n",
    "]\n",
    "\n",
    "# Display filtered data\n",
    "\n"
   ]
  },
  {
   "cell_type": "code",
   "execution_count": 227,
   "metadata": {},
   "outputs": [
    {
     "data": {
      "text/html": [
       "<div>\n",
       "<style scoped>\n",
       "    .dataframe tbody tr th:only-of-type {\n",
       "        vertical-align: middle;\n",
       "    }\n",
       "\n",
       "    .dataframe tbody tr th {\n",
       "        vertical-align: top;\n",
       "    }\n",
       "\n",
       "    .dataframe thead th {\n",
       "        text-align: right;\n",
       "    }\n",
       "</style>\n",
       "<table border=\"1\" class=\"dataframe\">\n",
       "  <thead>\n",
       "    <tr style=\"text-align: right;\">\n",
       "      <th></th>\n",
       "      <th>match_id</th>\n",
       "      <th>innings</th>\n",
       "      <th>batting_team</th>\n",
       "      <th>bowling_team</th>\n",
       "      <th>over</th>\n",
       "      <th>ball</th>\n",
       "      <th>batsman</th>\n",
       "      <th>bowler</th>\n",
       "      <th>non_striker</th>\n",
       "      <th>runs_of_bat</th>\n",
       "      <th>extra_runs</th>\n",
       "      <th>total_runs</th>\n",
       "      <th>extras_type</th>\n",
       "      <th>is_wicket</th>\n",
       "      <th>player_dismissed</th>\n",
       "      <th>dismissal_kind</th>\n",
       "      <th>fielder</th>\n",
       "      <th>isOut</th>\n",
       "      <th>season</th>\n",
       "      <th>city</th>\n",
       "      <th>date</th>\n",
       "      <th>match_type</th>\n",
       "      <th>player_of_match</th>\n",
       "      <th>venue</th>\n",
       "      <th>team1</th>\n",
       "      <th>team2</th>\n",
       "      <th>toss_winner</th>\n",
       "      <th>toss_decision</th>\n",
       "      <th>winner</th>\n",
       "      <th>result</th>\n",
       "      <th>result_margin</th>\n",
       "      <th>target_runs</th>\n",
       "      <th>target_overs</th>\n",
       "      <th>super_over</th>\n",
       "      <th>method</th>\n",
       "      <th>umpire1</th>\n",
       "      <th>umpire2</th>\n",
       "    </tr>\n",
       "  </thead>\n",
       "  <tbody>\n",
       "    <tr>\n",
       "      <th>259748</th>\n",
       "      <td>1426307</td>\n",
       "      <td>1</td>\n",
       "      <td>Punjab Kings</td>\n",
       "      <td>Sunrisers Hyderabad</td>\n",
       "      <td>19</td>\n",
       "      <td>3</td>\n",
       "      <td>Shivam Singh</td>\n",
       "      <td>Nithish Kumar Reddy</td>\n",
       "      <td>JM Sharma</td>\n",
       "      <td>1</td>\n",
       "      <td>0</td>\n",
       "      <td>1</td>\n",
       "      <td>NaN</td>\n",
       "      <td>0</td>\n",
       "      <td>NaN</td>\n",
       "      <td>NaN</td>\n",
       "      <td>NaN</td>\n",
       "      <td>0</td>\n",
       "      <td>2024</td>\n",
       "      <td>Hyderabad</td>\n",
       "      <td>2024-05-19</td>\n",
       "      <td>League</td>\n",
       "      <td>Abhishek Sharma</td>\n",
       "      <td>Rajiv Gandhi International Stadium, Uppal, Hyderabad</td>\n",
       "      <td>Punjab Kings</td>\n",
       "      <td>Sunrisers Hyderabad</td>\n",
       "      <td>Punjab Kings</td>\n",
       "      <td>bat</td>\n",
       "      <td>Sunrisers Hyderabad</td>\n",
       "      <td>wickets</td>\n",
       "      <td>4.0</td>\n",
       "      <td>215.0</td>\n",
       "      <td>20.0</td>\n",
       "      <td>N</td>\n",
       "      <td>NaN</td>\n",
       "      <td>Nitin Menon</td>\n",
       "      <td>VK Sharma</td>\n",
       "    </tr>\n",
       "    <tr>\n",
       "      <th>259749</th>\n",
       "      <td>1426307</td>\n",
       "      <td>1</td>\n",
       "      <td>Punjab Kings</td>\n",
       "      <td>Sunrisers Hyderabad</td>\n",
       "      <td>19</td>\n",
       "      <td>4</td>\n",
       "      <td>JM Sharma</td>\n",
       "      <td>Nithish Kumar Reddy</td>\n",
       "      <td>Shivam Singh</td>\n",
       "      <td>4</td>\n",
       "      <td>0</td>\n",
       "      <td>4</td>\n",
       "      <td>NaN</td>\n",
       "      <td>0</td>\n",
       "      <td>NaN</td>\n",
       "      <td>NaN</td>\n",
       "      <td>NaN</td>\n",
       "      <td>0</td>\n",
       "      <td>2024</td>\n",
       "      <td>Hyderabad</td>\n",
       "      <td>2024-05-19</td>\n",
       "      <td>League</td>\n",
       "      <td>Abhishek Sharma</td>\n",
       "      <td>Rajiv Gandhi International Stadium, Uppal, Hyderabad</td>\n",
       "      <td>Punjab Kings</td>\n",
       "      <td>Sunrisers Hyderabad</td>\n",
       "      <td>Punjab Kings</td>\n",
       "      <td>bat</td>\n",
       "      <td>Sunrisers Hyderabad</td>\n",
       "      <td>wickets</td>\n",
       "      <td>4.0</td>\n",
       "      <td>215.0</td>\n",
       "      <td>20.0</td>\n",
       "      <td>N</td>\n",
       "      <td>NaN</td>\n",
       "      <td>Nitin Menon</td>\n",
       "      <td>VK Sharma</td>\n",
       "    </tr>\n",
       "    <tr>\n",
       "      <th>259750</th>\n",
       "      <td>1426307</td>\n",
       "      <td>1</td>\n",
       "      <td>Punjab Kings</td>\n",
       "      <td>Sunrisers Hyderabad</td>\n",
       "      <td>19</td>\n",
       "      <td>5</td>\n",
       "      <td>JM Sharma</td>\n",
       "      <td>Nithish Kumar Reddy</td>\n",
       "      <td>Shivam Singh</td>\n",
       "      <td>0</td>\n",
       "      <td>1</td>\n",
       "      <td>1</td>\n",
       "      <td>wides</td>\n",
       "      <td>0</td>\n",
       "      <td>NaN</td>\n",
       "      <td>NaN</td>\n",
       "      <td>NaN</td>\n",
       "      <td>0</td>\n",
       "      <td>2024</td>\n",
       "      <td>Hyderabad</td>\n",
       "      <td>2024-05-19</td>\n",
       "      <td>League</td>\n",
       "      <td>Abhishek Sharma</td>\n",
       "      <td>Rajiv Gandhi International Stadium, Uppal, Hyderabad</td>\n",
       "      <td>Punjab Kings</td>\n",
       "      <td>Sunrisers Hyderabad</td>\n",
       "      <td>Punjab Kings</td>\n",
       "      <td>bat</td>\n",
       "      <td>Sunrisers Hyderabad</td>\n",
       "      <td>wickets</td>\n",
       "      <td>4.0</td>\n",
       "      <td>215.0</td>\n",
       "      <td>20.0</td>\n",
       "      <td>N</td>\n",
       "      <td>NaN</td>\n",
       "      <td>Nitin Menon</td>\n",
       "      <td>VK Sharma</td>\n",
       "    </tr>\n",
       "    <tr>\n",
       "      <th>259751</th>\n",
       "      <td>1426307</td>\n",
       "      <td>1</td>\n",
       "      <td>Punjab Kings</td>\n",
       "      <td>Sunrisers Hyderabad</td>\n",
       "      <td>19</td>\n",
       "      <td>6</td>\n",
       "      <td>JM Sharma</td>\n",
       "      <td>Nithish Kumar Reddy</td>\n",
       "      <td>Shivam Singh</td>\n",
       "      <td>6</td>\n",
       "      <td>0</td>\n",
       "      <td>6</td>\n",
       "      <td>NaN</td>\n",
       "      <td>0</td>\n",
       "      <td>NaN</td>\n",
       "      <td>NaN</td>\n",
       "      <td>NaN</td>\n",
       "      <td>0</td>\n",
       "      <td>2024</td>\n",
       "      <td>Hyderabad</td>\n",
       "      <td>2024-05-19</td>\n",
       "      <td>League</td>\n",
       "      <td>Abhishek Sharma</td>\n",
       "      <td>Rajiv Gandhi International Stadium, Uppal, Hyderabad</td>\n",
       "      <td>Punjab Kings</td>\n",
       "      <td>Sunrisers Hyderabad</td>\n",
       "      <td>Punjab Kings</td>\n",
       "      <td>bat</td>\n",
       "      <td>Sunrisers Hyderabad</td>\n",
       "      <td>wickets</td>\n",
       "      <td>4.0</td>\n",
       "      <td>215.0</td>\n",
       "      <td>20.0</td>\n",
       "      <td>N</td>\n",
       "      <td>NaN</td>\n",
       "      <td>Nitin Menon</td>\n",
       "      <td>VK Sharma</td>\n",
       "    </tr>\n",
       "    <tr>\n",
       "      <th>259752</th>\n",
       "      <td>1426307</td>\n",
       "      <td>1</td>\n",
       "      <td>Punjab Kings</td>\n",
       "      <td>Sunrisers Hyderabad</td>\n",
       "      <td>19</td>\n",
       "      <td>7</td>\n",
       "      <td>JM Sharma</td>\n",
       "      <td>Nithish Kumar Reddy</td>\n",
       "      <td>Shivam Singh</td>\n",
       "      <td>6</td>\n",
       "      <td>0</td>\n",
       "      <td>6</td>\n",
       "      <td>NaN</td>\n",
       "      <td>0</td>\n",
       "      <td>NaN</td>\n",
       "      <td>NaN</td>\n",
       "      <td>NaN</td>\n",
       "      <td>0</td>\n",
       "      <td>2024</td>\n",
       "      <td>Hyderabad</td>\n",
       "      <td>2024-05-19</td>\n",
       "      <td>League</td>\n",
       "      <td>Abhishek Sharma</td>\n",
       "      <td>Rajiv Gandhi International Stadium, Uppal, Hyderabad</td>\n",
       "      <td>Punjab Kings</td>\n",
       "      <td>Sunrisers Hyderabad</td>\n",
       "      <td>Punjab Kings</td>\n",
       "      <td>bat</td>\n",
       "      <td>Sunrisers Hyderabad</td>\n",
       "      <td>wickets</td>\n",
       "      <td>4.0</td>\n",
       "      <td>215.0</td>\n",
       "      <td>20.0</td>\n",
       "      <td>N</td>\n",
       "      <td>NaN</td>\n",
       "      <td>Nitin Menon</td>\n",
       "      <td>VK Sharma</td>\n",
       "    </tr>\n",
       "  </tbody>\n",
       "</table>\n",
       "</div>"
      ],
      "text/plain": [
       "        match_id  innings  batting_team         bowling_team  over  ball       batsman               bowler   non_striker  runs_of_bat  extra_runs  total_runs extras_type  is_wicket player_dismissed dismissal_kind fielder  isOut season       city        date match_type  player_of_match                                                 venue         team1                team2   toss_winner toss_decision               winner   result  result_margin  target_runs  target_overs super_over method      umpire1    umpire2\n",
       "259748   1426307        1  Punjab Kings  Sunrisers Hyderabad    19     3  Shivam Singh  Nithish Kumar Reddy     JM Sharma            1           0           1         NaN          0              NaN            NaN     NaN      0   2024  Hyderabad  2024-05-19     League  Abhishek Sharma  Rajiv Gandhi International Stadium, Uppal, Hyderabad  Punjab Kings  Sunrisers Hyderabad  Punjab Kings           bat  Sunrisers Hyderabad  wickets            4.0        215.0          20.0          N    NaN  Nitin Menon  VK Sharma\n",
       "259749   1426307        1  Punjab Kings  Sunrisers Hyderabad    19     4     JM Sharma  Nithish Kumar Reddy  Shivam Singh            4           0           4         NaN          0              NaN            NaN     NaN      0   2024  Hyderabad  2024-05-19     League  Abhishek Sharma  Rajiv Gandhi International Stadium, Uppal, Hyderabad  Punjab Kings  Sunrisers Hyderabad  Punjab Kings           bat  Sunrisers Hyderabad  wickets            4.0        215.0          20.0          N    NaN  Nitin Menon  VK Sharma\n",
       "259750   1426307        1  Punjab Kings  Sunrisers Hyderabad    19     5     JM Sharma  Nithish Kumar Reddy  Shivam Singh            0           1           1       wides          0              NaN            NaN     NaN      0   2024  Hyderabad  2024-05-19     League  Abhishek Sharma  Rajiv Gandhi International Stadium, Uppal, Hyderabad  Punjab Kings  Sunrisers Hyderabad  Punjab Kings           bat  Sunrisers Hyderabad  wickets            4.0        215.0          20.0          N    NaN  Nitin Menon  VK Sharma\n",
       "259751   1426307        1  Punjab Kings  Sunrisers Hyderabad    19     6     JM Sharma  Nithish Kumar Reddy  Shivam Singh            6           0           6         NaN          0              NaN            NaN     NaN      0   2024  Hyderabad  2024-05-19     League  Abhishek Sharma  Rajiv Gandhi International Stadium, Uppal, Hyderabad  Punjab Kings  Sunrisers Hyderabad  Punjab Kings           bat  Sunrisers Hyderabad  wickets            4.0        215.0          20.0          N    NaN  Nitin Menon  VK Sharma\n",
       "259752   1426307        1  Punjab Kings  Sunrisers Hyderabad    19     7     JM Sharma  Nithish Kumar Reddy  Shivam Singh            6           0           6         NaN          0              NaN            NaN     NaN      0   2024  Hyderabad  2024-05-19     League  Abhishek Sharma  Rajiv Gandhi International Stadium, Uppal, Hyderabad  Punjab Kings  Sunrisers Hyderabad  Punjab Kings           bat  Sunrisers Hyderabad  wickets            4.0        215.0          20.0          N    NaN  Nitin Menon  VK Sharma"
      ]
     },
     "execution_count": 227,
     "metadata": {},
     "output_type": "execute_result"
    }
   ],
   "source": [
    "df_filtered.tail()"
   ]
  },
  {
   "cell_type": "code",
   "execution_count": 231,
   "metadata": {},
   "outputs": [
    {
     "name": "stdout",
     "output_type": "stream",
     "text": [
      "    1st_innings_score  win_percentage\n",
      "21                197             0.5\n",
      "22                198             0.5\n",
      "23                209             0.5\n",
      "24                214             0.5\n",
      "25                221             0.5\n"
     ]
    }
   ],
   "source": [
    "# Group by match_id to get the final 1st innings score\n",
    "df_1st_innings = df_filtered.groupby('match_id')['total_runs'].sum().reset_index()\n",
    "\n",
    "# Merge with match results (winner)\n",
    "match_results = comb[['match_id', 'winner', 'batting_team']].drop_duplicates()\n",
    "\n",
    "# Merge 1st innings scores with results\n",
    "df_1st_innings = df_1st_innings.merge(match_results, on='match_id', how='left')\n",
    "\n",
    "# Mark if the batting team won\n",
    "df_1st_innings['won'] = df_1st_innings['batting_team'] == df_1st_innings['winner']\n",
    "\n",
    "# Group by score and calculate win % \n",
    "win_prob_df = df_1st_innings.groupby('total_runs')['won'].mean().reset_index()\n",
    "\n",
    "# Rename columns\n",
    "win_prob_df.columns = ['1st_innings_score', 'win_percentage']\n",
    "\n",
    "# Display the first few rows\n",
    "print(win_prob_df.tail())\n"
   ]
  },
  {
   "cell_type": "code",
   "execution_count": 233,
   "metadata": {},
   "outputs": [
    {
     "data": {
      "image/png": "[encoded data removed]",
      "text/plain": [
       "<Figure size 1200x600 with 1 Axes>"
      ]
     },
     "metadata": {},
     "output_type": "display_data"
    }
   ],
   "source": [
    "import matplotlib.pyplot as plt\n",
    "\n",
    "plt.figure(figsize=(12, 6))\n",
    "plt.plot(win_prob_df['1st_innings_score'], win_prob_df['win_percentage'] * 100, marker='o', linestyle='-')\n",
    "\n",
    "plt.xlabel(\"1st Innings Score\")\n",
    "plt.ylabel(\"Win Probability (%)\")\n",
    "plt.title(f\"Win Probability Based on 1st Innings Score ({team_name})\")\n",
    "plt.axhline(50, linestyle=\"--\", color=\"grey\", alpha=0.7, label=\"50% Win Probability\")\n",
    "plt.legend()\n",
    "plt.grid(True)\n",
    "plt.show()\n"
   ]
  },
  {
   "cell_type": "code",
   "execution_count": null,
   "metadata": {},
   "outputs": [],
   "source": []
  }
 ],
 "metadata": {
  "kernelspec": {
   "display_name": "Python [conda env:base] *",
   "language": "python",
   "name": "conda-base-py"
  },
  "language_info": {
   "codemirror_mode": {
    "name": "ipython",
    "version": 3
   },
   "file_extension": ".py",
   "mimetype": "text/x-python",
   "name": "python",
   "nbconvert_exporter": "python",
   "pygments_lexer": "ipython3",
   "version": "3.12.7"
  }
 },
 "nbformat": 4,
 "nbformat_minor": 4
}
