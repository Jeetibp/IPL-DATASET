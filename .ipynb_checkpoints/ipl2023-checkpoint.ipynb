{
 "cells": [
  {
   "cell_type": "code",
   "execution_count": 11,
   "id": "76fa315a-fb3b-4060-8282-fbb423a7afe7",
   "metadata": {},
   "outputs": [],
   "source": [
    "        import pandas as pd\n",
    "        import numpy as np\n",
    "        import math\n",
    "        import matplotlib.pyplot as plt\n",
    "        \n",
    "        import warnings\n",
    "        warnings.filterwarnings('ignore')\n",
    "        \n",
    "        pd.set_option('display.max_columns',None)\n",
    "        pd.set_option('display.max_row',None)\n",
    "        pd.set_option('display.expand_frame_repr',False)\n",
    "        pd.set_option('display.max_colwidth',None)"
   ]
  },
  {
   "cell_type": "code",
   "execution_count": 170,
   "id": "ed9ffbc6-e638-418a-b989-25000878a495",
   "metadata": {},
   "outputs": [],
   "source": [
    "deliveries = pd.read_csv('ipl_2023_deliveries.csv')"
   ]
  },
  {
   "cell_type": "code",
   "execution_count": 172,
   "id": "c5783d4c-7643-48c9-abd4-70aaf6f6d98a",
   "metadata": {},
   "outputs": [],
   "source": [
    "df=deliveries"
   ]
  },
  {
   "cell_type": "code",
   "execution_count": 174,
   "id": "3f9c6639-e778-4914-a59f-2035271bbfee",
   "metadata": {},
   "outputs": [
    {
     "data": {
      "text/html": [
       "<div>\n",
       "<style scoped>\n",
       "    .dataframe tbody tr th:only-of-type {\n",
       "        vertical-align: middle;\n",
       "    }\n",
       "\n",
       "    .dataframe tbody tr th {\n",
       "        vertical-align: top;\n",
       "    }\n",
       "\n",
       "    .dataframe thead th {\n",
       "        text-align: right;\n",
       "    }\n",
       "</style>\n",
       "<table border=\"1\" class=\"dataframe\">\n",
       "  <thead>\n",
       "    <tr style=\"text-align: right;\">\n",
       "      <th></th>\n",
       "      <th>match_id</th>\n",
       "      <th>season</th>\n",
       "      <th>match_no</th>\n",
       "      <th>date</th>\n",
       "      <th>venue</th>\n",
       "      <th>batting_team</th>\n",
       "      <th>bowling_team</th>\n",
       "      <th>innings</th>\n",
       "      <th>over</th>\n",
       "      <th>striker</th>\n",
       "      <th>bowler</th>\n",
       "      <th>runs_of_bat</th>\n",
       "      <th>extras</th>\n",
       "      <th>wide</th>\n",
       "      <th>legbyes</th>\n",
       "      <th>byes</th>\n",
       "      <th>noballs</th>\n",
       "      <th>wicket_type</th>\n",
       "      <th>player_dismissed</th>\n",
       "      <th>fielder</th>\n",
       "    </tr>\n",
       "  </thead>\n",
       "  <tbody>\n",
       "    <tr>\n",
       "      <th>0</th>\n",
       "      <td>202301</td>\n",
       "      <td>2023</td>\n",
       "      <td>1</td>\n",
       "      <td>Mar 31, 2023</td>\n",
       "      <td>Narendra Modi Stadium, Ahmedabad</td>\n",
       "      <td>CSK</td>\n",
       "      <td>GT</td>\n",
       "      <td>1</td>\n",
       "      <td>0.1</td>\n",
       "      <td>Conway</td>\n",
       "      <td>Shami</td>\n",
       "      <td>0</td>\n",
       "      <td>0</td>\n",
       "      <td>0</td>\n",
       "      <td>0</td>\n",
       "      <td>0</td>\n",
       "      <td>0</td>\n",
       "      <td>NaN</td>\n",
       "      <td>NaN</td>\n",
       "      <td>NaN</td>\n",
       "    </tr>\n",
       "    <tr>\n",
       "      <th>1</th>\n",
       "      <td>202301</td>\n",
       "      <td>2023</td>\n",
       "      <td>1</td>\n",
       "      <td>Mar 31, 2023</td>\n",
       "      <td>Narendra Modi Stadium, Ahmedabad</td>\n",
       "      <td>CSK</td>\n",
       "      <td>GT</td>\n",
       "      <td>1</td>\n",
       "      <td>0.2</td>\n",
       "      <td>Conway</td>\n",
       "      <td>Shami</td>\n",
       "      <td>0</td>\n",
       "      <td>1</td>\n",
       "      <td>0</td>\n",
       "      <td>1</td>\n",
       "      <td>0</td>\n",
       "      <td>0</td>\n",
       "      <td>NaN</td>\n",
       "      <td>NaN</td>\n",
       "      <td>NaN</td>\n",
       "    </tr>\n",
       "    <tr>\n",
       "      <th>2</th>\n",
       "      <td>202301</td>\n",
       "      <td>2023</td>\n",
       "      <td>1</td>\n",
       "      <td>Mar 31, 2023</td>\n",
       "      <td>Narendra Modi Stadium, Ahmedabad</td>\n",
       "      <td>CSK</td>\n",
       "      <td>GT</td>\n",
       "      <td>1</td>\n",
       "      <td>0.3</td>\n",
       "      <td>Gaikwad</td>\n",
       "      <td>Shami</td>\n",
       "      <td>0</td>\n",
       "      <td>0</td>\n",
       "      <td>0</td>\n",
       "      <td>0</td>\n",
       "      <td>0</td>\n",
       "      <td>0</td>\n",
       "      <td>NaN</td>\n",
       "      <td>NaN</td>\n",
       "      <td>NaN</td>\n",
       "    </tr>\n",
       "    <tr>\n",
       "      <th>3</th>\n",
       "      <td>202301</td>\n",
       "      <td>2023</td>\n",
       "      <td>1</td>\n",
       "      <td>Mar 31, 2023</td>\n",
       "      <td>Narendra Modi Stadium, Ahmedabad</td>\n",
       "      <td>CSK</td>\n",
       "      <td>GT</td>\n",
       "      <td>1</td>\n",
       "      <td>0.4</td>\n",
       "      <td>Gaikwad</td>\n",
       "      <td>Shami</td>\n",
       "      <td>1</td>\n",
       "      <td>0</td>\n",
       "      <td>0</td>\n",
       "      <td>0</td>\n",
       "      <td>0</td>\n",
       "      <td>0</td>\n",
       "      <td>NaN</td>\n",
       "      <td>NaN</td>\n",
       "      <td>NaN</td>\n",
       "    </tr>\n",
       "    <tr>\n",
       "      <th>4</th>\n",
       "      <td>202301</td>\n",
       "      <td>2023</td>\n",
       "      <td>1</td>\n",
       "      <td>Mar 31, 2023</td>\n",
       "      <td>Narendra Modi Stadium, Ahmedabad</td>\n",
       "      <td>CSK</td>\n",
       "      <td>GT</td>\n",
       "      <td>1</td>\n",
       "      <td>0.5</td>\n",
       "      <td>Conway</td>\n",
       "      <td>Shami</td>\n",
       "      <td>0</td>\n",
       "      <td>0</td>\n",
       "      <td>0</td>\n",
       "      <td>0</td>\n",
       "      <td>0</td>\n",
       "      <td>0</td>\n",
       "      <td>NaN</td>\n",
       "      <td>NaN</td>\n",
       "      <td>NaN</td>\n",
       "    </tr>\n",
       "  </tbody>\n",
       "</table>\n",
       "</div>"
      ],
      "text/plain": [
       "   match_id  season  match_no          date                             venue batting_team bowling_team  innings  over  striker bowler  runs_of_bat  extras  wide  legbyes  byes  noballs wicket_type player_dismissed fielder\n",
       "0    202301    2023         1  Mar 31, 2023  Narendra Modi Stadium, Ahmedabad          CSK           GT        1   0.1   Conway  Shami            0       0     0        0     0        0         NaN              NaN     NaN\n",
       "1    202301    2023         1  Mar 31, 2023  Narendra Modi Stadium, Ahmedabad          CSK           GT        1   0.2   Conway  Shami            0       1     0        1     0        0         NaN              NaN     NaN\n",
       "2    202301    2023         1  Mar 31, 2023  Narendra Modi Stadium, Ahmedabad          CSK           GT        1   0.3  Gaikwad  Shami            0       0     0        0     0        0         NaN              NaN     NaN\n",
       "3    202301    2023         1  Mar 31, 2023  Narendra Modi Stadium, Ahmedabad          CSK           GT        1   0.4  Gaikwad  Shami            1       0     0        0     0        0         NaN              NaN     NaN\n",
       "4    202301    2023         1  Mar 31, 2023  Narendra Modi Stadium, Ahmedabad          CSK           GT        1   0.5   Conway  Shami            0       0     0        0     0        0         NaN              NaN     NaN"
      ]
     },
     "execution_count": 174,
     "metadata": {},
     "output_type": "execute_result"
    }
   ],
   "source": [
    "df.head()"
   ]
  },
  {
   "cell_type": "code",
   "execution_count": null,
   "id": "d0e1c24f-458a-4ac0-b61b-a09d13178241",
   "metadata": {},
   "outputs": [],
   "source": []
  },
  {
   "cell_type": "code",
   "execution_count": 176,
   "id": "031e591f-24b8-4819-b632-9cef9f88bd62",
   "metadata": {},
   "outputs": [],
   "source": [
    "df = df.rename(columns={'striker':'batsman'})"
   ]
  },
  {
   "cell_type": "code",
   "execution_count": 178,
   "id": "8185fb2e-4731-4ca5-beda-020b9bcadff4",
   "metadata": {},
   "outputs": [],
   "source": [
    " df['isDot'] = df['runs_of_bat'].apply(lambda x: 1 if x == 0 else 0)\n",
    "df['isOne'] = df['runs_of_bat'].apply(lambda x: 1 if x == 1 else 0)\n",
    "df['isTwo'] = df['runs_of_bat'].apply(lambda x: 1 if x == 2 else 0)\n",
    "df['isThree'] = df['runs_of_bat'].apply(lambda x: 1 if x == 3 else 0)\n",
    "df['isFour'] = df['runs_of_bat'].apply(lambda x: 1 if x == 4 else 0)\n",
    "df['isSix'] = df['runs_of_bat'].apply(lambda x: 1 if x == 6 else 0)"
   ]
  },
  {
   "cell_type": "code",
   "execution_count": 180,
   "id": "89494b34-dd5a-4c60-a8a5-0484293a4e73",
   "metadata": {},
   "outputs": [
    {
     "data": {
      "text/plain": [
       "176"
      ]
     },
     "execution_count": 180,
     "metadata": {},
     "output_type": "execute_result"
    }
   ],
   "source": [
    "len(df['batsman'].unique())  #find total batsmen"
   ]
  },
  {
   "cell_type": "code",
   "execution_count": 186,
   "id": "169693b0-b5ce-4831-8e64-fdb969c3bf1d",
   "metadata": {
    "scrolled": true
   },
   "outputs": [
    {
     "data": {
      "text/plain": [
       "batsman       match_id\n",
       "Abdul Basith  202332      1.000000\n",
       "Abdul Samad   202304      0.969697\n",
       "              202310      2.100000\n",
       "              202325      0.642857\n",
       "              202340      1.333333\n",
       "Name: runs_of_bat, dtype: float64"
      ]
     },
     "execution_count": 186,
     "metadata": {},
     "output_type": "execute_result"
    }
   ],
   "source": [
    "#df.groupby(['batsman'])['runs_of_bat'].sum() #finding len of batsman in dataset\n",
    "#df.groupby(['batsman','match_id'])['runs_of_bat'].sum().tail() # finding batsman run with match id \n",
    "#df.groupby(['batsman','match_id'])['runs_of_bat'].mean().head() # find average of batsman\n"
   ]
  },
  {
   "cell_type": "code",
   "execution_count": 188,
   "id": "04ad3955-dc11-4383-af7f-fdbfb062e1f7",
   "metadata": {},
   "outputs": [],
   "source": [
    "runs = pd.DataFrame(df.groupby(['batsman'])['runs_of_bat'].sum()).reset_index().rename(columns={'runs_of_bat':'runs'}) #run is data set and we rename the columns runs_of bat to runs"
   ]
  },
  {
   "cell_type": "code",
   "execution_count": 190,
   "id": "b07b4cfe-0045-4484-bcfe-153be7cb3f86",
   "metadata": {},
   "outputs": [
    {
     "data": {
      "text/html": [
       "<div>\n",
       "<style scoped>\n",
       "    .dataframe tbody tr th:only-of-type {\n",
       "        vertical-align: middle;\n",
       "    }\n",
       "\n",
       "    .dataframe tbody tr th {\n",
       "        vertical-align: top;\n",
       "    }\n",
       "\n",
       "    .dataframe thead th {\n",
       "        text-align: right;\n",
       "    }\n",
       "</style>\n",
       "<table border=\"1\" class=\"dataframe\">\n",
       "  <thead>\n",
       "    <tr style=\"text-align: right;\">\n",
       "      <th></th>\n",
       "      <th>batsman</th>\n",
       "      <th>runs</th>\n",
       "    </tr>\n",
       "  </thead>\n",
       "  <tbody>\n",
       "    <tr>\n",
       "      <th>171</th>\n",
       "      <td>Yash Dhull</td>\n",
       "      <td>16</td>\n",
       "    </tr>\n",
       "    <tr>\n",
       "      <th>172</th>\n",
       "      <td>Yudhvir Singh</td>\n",
       "      <td>1</td>\n",
       "    </tr>\n",
       "    <tr>\n",
       "      <th>173</th>\n",
       "      <td>Zampa</td>\n",
       "      <td>10</td>\n",
       "    </tr>\n",
       "    <tr>\n",
       "      <th>174</th>\n",
       "      <td>de Kock</td>\n",
       "      <td>143</td>\n",
       "    </tr>\n",
       "    <tr>\n",
       "      <th>175</th>\n",
       "      <td>du Plessis</td>\n",
       "      <td>730</td>\n",
       "    </tr>\n",
       "  </tbody>\n",
       "</table>\n",
       "</div>"
      ],
      "text/plain": [
       "           batsman  runs\n",
       "171     Yash Dhull    16\n",
       "172  Yudhvir Singh     1\n",
       "173          Zampa    10\n",
       "174        de Kock   143\n",
       "175     du Plessis   730"
      ]
     },
     "execution_count": 190,
     "metadata": {},
     "output_type": "execute_result"
    }
   ],
   "source": [
    "runs.tail()"
   ]
  },
  {
   "cell_type": "code",
   "execution_count": null,
   "id": "519ecd56-ae68-4990-b1c1-23b0968b53fc",
   "metadata": {},
   "outputs": [],
   "source": []
  },
  {
   "cell_type": "code",
   "execution_count": 192,
   "id": "85ca4e86-f11a-444f-91f4-429350f7836d",
   "metadata": {},
   "outputs": [],
   "source": [
    "#pd.DataFrame(df.groupby(['batsman'])['match_id'].count()).head() #match_id is no of ball played by each player \n",
    "balls = pd.DataFrame(df.groupby(['batsman'])['match_id'].count()).reset_index().rename(columns={'match_id':'balls'}) #balls is data set and we rename the columns match_id to balls"
   ]
  },
  {
   "cell_type": "code",
   "execution_count": 194,
   "id": "a0b500cd-2e3b-47e8-b093-86e3b333cda3",
   "metadata": {},
   "outputs": [
    {
     "data": {
      "text/html": [
       "<div>\n",
       "<style scoped>\n",
       "    .dataframe tbody tr th:only-of-type {\n",
       "        vertical-align: middle;\n",
       "    }\n",
       "\n",
       "    .dataframe tbody tr th {\n",
       "        vertical-align: top;\n",
       "    }\n",
       "\n",
       "    .dataframe thead th {\n",
       "        text-align: right;\n",
       "    }\n",
       "</style>\n",
       "<table border=\"1\" class=\"dataframe\">\n",
       "  <thead>\n",
       "    <tr style=\"text-align: right;\">\n",
       "      <th></th>\n",
       "      <th>batsman</th>\n",
       "      <th>balls</th>\n",
       "    </tr>\n",
       "  </thead>\n",
       "  <tbody>\n",
       "    <tr>\n",
       "      <th>171</th>\n",
       "      <td>Yash Dhull</td>\n",
       "      <td>23</td>\n",
       "    </tr>\n",
       "    <tr>\n",
       "      <th>172</th>\n",
       "      <td>Yudhvir Singh</td>\n",
       "      <td>2</td>\n",
       "    </tr>\n",
       "    <tr>\n",
       "      <th>173</th>\n",
       "      <td>Zampa</td>\n",
       "      <td>17</td>\n",
       "    </tr>\n",
       "    <tr>\n",
       "      <th>174</th>\n",
       "      <td>de Kock</td>\n",
       "      <td>103</td>\n",
       "    </tr>\n",
       "    <tr>\n",
       "      <th>175</th>\n",
       "      <td>du Plessis</td>\n",
       "      <td>483</td>\n",
       "    </tr>\n",
       "  </tbody>\n",
       "</table>\n",
       "</div>"
      ],
      "text/plain": [
       "           batsman  balls\n",
       "171     Yash Dhull     23\n",
       "172  Yudhvir Singh      2\n",
       "173          Zampa     17\n",
       "174        de Kock    103\n",
       "175     du Plessis    483"
      ]
     },
     "execution_count": 194,
     "metadata": {},
     "output_type": "execute_result"
    }
   ],
   "source": [
    "balls.tail()"
   ]
  },
  {
   "cell_type": "code",
   "execution_count": null,
   "id": "e4ce770d-797b-466a-ac0e-53804750dbd8",
   "metadata": {},
   "outputs": [],
   "source": []
  },
  {
   "cell_type": "code",
   "execution_count": null,
   "id": "af5382e3-eb41-4982-88d4-2fba72f56552",
   "metadata": {},
   "outputs": [],
   "source": []
  },
  {
   "cell_type": "code",
   "execution_count": 196,
   "id": "7ad8f4b8-f52e-4bee-97b6-49bc7da44088",
   "metadata": {},
   "outputs": [],
   "source": [
    "innings = pd.DataFrame(df.groupby(['batsman'])['match_id'].apply(lambda x: len(list(np.unique(x))))).reset_index().rename(columns={'match_id':'innings'}) #from match id i extraed unique match id and than each match \n",
    "#is consider as played 1 inning than converted match id into innings using lambda"
   ]
  },
  {
   "cell_type": "code",
   "execution_count": 198,
   "id": "5e464c38-5262-4322-a83d-292f907a9411",
   "metadata": {},
   "outputs": [
    {
     "data": {
      "text/html": [
       "<div>\n",
       "<style scoped>\n",
       "    .dataframe tbody tr th:only-of-type {\n",
       "        vertical-align: middle;\n",
       "    }\n",
       "\n",
       "    .dataframe tbody tr th {\n",
       "        vertical-align: top;\n",
       "    }\n",
       "\n",
       "    .dataframe thead th {\n",
       "        text-align: right;\n",
       "    }\n",
       "</style>\n",
       "<table border=\"1\" class=\"dataframe\">\n",
       "  <thead>\n",
       "    <tr style=\"text-align: right;\">\n",
       "      <th></th>\n",
       "      <th>batsman</th>\n",
       "      <th>innings</th>\n",
       "    </tr>\n",
       "  </thead>\n",
       "  <tbody>\n",
       "    <tr>\n",
       "      <th>171</th>\n",
       "      <td>Yash Dhull</td>\n",
       "      <td>3</td>\n",
       "    </tr>\n",
       "    <tr>\n",
       "      <th>172</th>\n",
       "      <td>Yudhvir Singh</td>\n",
       "      <td>2</td>\n",
       "    </tr>\n",
       "    <tr>\n",
       "      <th>173</th>\n",
       "      <td>Zampa</td>\n",
       "      <td>3</td>\n",
       "    </tr>\n",
       "    <tr>\n",
       "      <th>174</th>\n",
       "      <td>de Kock</td>\n",
       "      <td>4</td>\n",
       "    </tr>\n",
       "    <tr>\n",
       "      <th>175</th>\n",
       "      <td>du Plessis</td>\n",
       "      <td>14</td>\n",
       "    </tr>\n",
       "  </tbody>\n",
       "</table>\n",
       "</div>"
      ],
      "text/plain": [
       "           batsman  innings\n",
       "171     Yash Dhull        3\n",
       "172  Yudhvir Singh        2\n",
       "173          Zampa        3\n",
       "174        de Kock        4\n",
       "175     du Plessis       14"
      ]
     },
     "execution_count": 198,
     "metadata": {},
     "output_type": "execute_result"
    }
   ],
   "source": [
    "innings.tail()"
   ]
  },
  {
   "cell_type": "code",
   "execution_count": 200,
   "id": "5a16e8bd-0739-4606-8949-861d41453045",
   "metadata": {},
   "outputs": [],
   "source": [
    "dismissals = pd.DataFrame(df.groupby(['batsman'])['player_dismissed'].count()).reset_index().rename(columns={'player_dismissed':'dismissals'})"
   ]
  },
  {
   "cell_type": "code",
   "execution_count": 202,
   "id": "6bae6914-3e84-4b35-8e11-7cfafd596a3f",
   "metadata": {},
   "outputs": [
    {
     "data": {
      "text/html": [
       "<div>\n",
       "<style scoped>\n",
       "    .dataframe tbody tr th:only-of-type {\n",
       "        vertical-align: middle;\n",
       "    }\n",
       "\n",
       "    .dataframe tbody tr th {\n",
       "        vertical-align: top;\n",
       "    }\n",
       "\n",
       "    .dataframe thead th {\n",
       "        text-align: right;\n",
       "    }\n",
       "</style>\n",
       "<table border=\"1\" class=\"dataframe\">\n",
       "  <thead>\n",
       "    <tr style=\"text-align: right;\">\n",
       "      <th></th>\n",
       "      <th>batsman</th>\n",
       "      <th>dismissals</th>\n",
       "    </tr>\n",
       "  </thead>\n",
       "  <tbody>\n",
       "    <tr>\n",
       "      <th>171</th>\n",
       "      <td>Yash Dhull</td>\n",
       "      <td>3</td>\n",
       "    </tr>\n",
       "    <tr>\n",
       "      <th>172</th>\n",
       "      <td>Yudhvir Singh</td>\n",
       "      <td>2</td>\n",
       "    </tr>\n",
       "    <tr>\n",
       "      <th>173</th>\n",
       "      <td>Zampa</td>\n",
       "      <td>3</td>\n",
       "    </tr>\n",
       "    <tr>\n",
       "      <th>174</th>\n",
       "      <td>de Kock</td>\n",
       "      <td>4</td>\n",
       "    </tr>\n",
       "    <tr>\n",
       "      <th>175</th>\n",
       "      <td>du Plessis</td>\n",
       "      <td>13</td>\n",
       "    </tr>\n",
       "  </tbody>\n",
       "</table>\n",
       "</div>"
      ],
      "text/plain": [
       "           batsman  dismissals\n",
       "171     Yash Dhull           3\n",
       "172  Yudhvir Singh           2\n",
       "173          Zampa           3\n",
       "174        de Kock           4\n",
       "175     du Plessis          13"
      ]
     },
     "execution_count": 202,
     "metadata": {},
     "output_type": "execute_result"
    }
   ],
   "source": [
    "dismissals.tail()"
   ]
  },
  {
   "cell_type": "code",
   "execution_count": 204,
   "id": "a4f22617-0d43-42e8-aca4-406f872b967d",
   "metadata": {},
   "outputs": [],
   "source": [
    "sixes = pd.DataFrame(df.groupby(['batsman'])['isSix'].sum()).reset_index().rename(columns = {'isSix':'sixes'})"
   ]
  },
  {
   "cell_type": "code",
   "execution_count": 206,
   "id": "40619bc3-cd6c-4c9f-94fd-25e88393f098",
   "metadata": {},
   "outputs": [
    {
     "data": {
      "text/html": [
       "<div>\n",
       "<style scoped>\n",
       "    .dataframe tbody tr th:only-of-type {\n",
       "        vertical-align: middle;\n",
       "    }\n",
       "\n",
       "    .dataframe tbody tr th {\n",
       "        vertical-align: top;\n",
       "    }\n",
       "\n",
       "    .dataframe thead th {\n",
       "        text-align: right;\n",
       "    }\n",
       "</style>\n",
       "<table border=\"1\" class=\"dataframe\">\n",
       "  <thead>\n",
       "    <tr style=\"text-align: right;\">\n",
       "      <th></th>\n",
       "      <th>batsman</th>\n",
       "      <th>sixes</th>\n",
       "    </tr>\n",
       "  </thead>\n",
       "  <tbody>\n",
       "    <tr>\n",
       "      <th>171</th>\n",
       "      <td>Yash Dhull</td>\n",
       "      <td>0</td>\n",
       "    </tr>\n",
       "    <tr>\n",
       "      <th>172</th>\n",
       "      <td>Yudhvir Singh</td>\n",
       "      <td>0</td>\n",
       "    </tr>\n",
       "    <tr>\n",
       "      <th>173</th>\n",
       "      <td>Zampa</td>\n",
       "      <td>0</td>\n",
       "    </tr>\n",
       "    <tr>\n",
       "      <th>174</th>\n",
       "      <td>de Kock</td>\n",
       "      <td>8</td>\n",
       "    </tr>\n",
       "    <tr>\n",
       "      <th>175</th>\n",
       "      <td>du Plessis</td>\n",
       "      <td>36</td>\n",
       "    </tr>\n",
       "  </tbody>\n",
       "</table>\n",
       "</div>"
      ],
      "text/plain": [
       "           batsman  sixes\n",
       "171     Yash Dhull      0\n",
       "172  Yudhvir Singh      0\n",
       "173          Zampa      0\n",
       "174        de Kock      8\n",
       "175     du Plessis     36"
      ]
     },
     "execution_count": 206,
     "metadata": {},
     "output_type": "execute_result"
    }
   ],
   "source": [
    "sixes.tail()"
   ]
  },
  {
   "cell_type": "code",
   "execution_count": 208,
   "id": "b021aa47-946b-469c-becc-6fff7d4853f7",
   "metadata": {},
   "outputs": [],
   "source": [
    "dots = pd.DataFrame(df.groupby(['batsman'])['isDot'].sum()).reset_index().rename(columns = {'isDot':'dots'})\n",
    "ones = pd.DataFrame(df.groupby(['batsman'])['isOne'].sum()).reset_index().rename(columns = {'isOne':'ones'})\n",
    "twos = pd.DataFrame(df.groupby(['batsman'])['isTwo'].sum()).reset_index().rename(columns = {'isTwo':'twos'})\n",
    "threes = pd.DataFrame(df.groupby(['batsman'])['isThree'].sum()).reset_index().rename(columns = {'isThree':'threes'})\n",
    "fours = pd.DataFrame(df.groupby(['batsman'])['isFour'].sum()).reset_index().rename(columns = {'isFour':'fours'})"
   ]
  },
  {
   "cell_type": "code",
   "execution_count": 210,
   "id": "38daea04-1b64-44f5-80f6-645c91d94818",
   "metadata": {},
   "outputs": [],
   "source": [
    "mega = pd.merge(innings,runs,on = 'batsman').merge( balls, on = 'batsman').merge( dismissals, on = 'batsman').merge( fours, on = 'batsman').merge( sixes, on = 'batsman')"
   ]
  },
  {
   "cell_type": "code",
   "execution_count": 212,
   "id": "a4779b43-c5dd-429f-a5e8-30d0261f13ed",
   "metadata": {},
   "outputs": [
    {
     "data": {
      "text/html": [
       "<div>\n",
       "<style scoped>\n",
       "    .dataframe tbody tr th:only-of-type {\n",
       "        vertical-align: middle;\n",
       "    }\n",
       "\n",
       "    .dataframe tbody tr th {\n",
       "        vertical-align: top;\n",
       "    }\n",
       "\n",
       "    .dataframe thead th {\n",
       "        text-align: right;\n",
       "    }\n",
       "</style>\n",
       "<table border=\"1\" class=\"dataframe\">\n",
       "  <thead>\n",
       "    <tr style=\"text-align: right;\">\n",
       "      <th></th>\n",
       "      <th>batsman</th>\n",
       "      <th>innings</th>\n",
       "      <th>runs</th>\n",
       "      <th>balls</th>\n",
       "      <th>dismissals</th>\n",
       "      <th>fours</th>\n",
       "      <th>sixes</th>\n",
       "    </tr>\n",
       "  </thead>\n",
       "  <tbody>\n",
       "    <tr>\n",
       "      <th>175</th>\n",
       "      <td>du Plessis</td>\n",
       "      <td>14</td>\n",
       "      <td>730</td>\n",
       "      <td>483</td>\n",
       "      <td>13</td>\n",
       "      <td>60</td>\n",
       "      <td>36</td>\n",
       "    </tr>\n",
       "  </tbody>\n",
       "</table>\n",
       "</div>"
      ],
      "text/plain": [
       "        batsman  innings  runs  balls  dismissals  fours  sixes\n",
       "175  du Plessis       14   730    483          13     60     36"
      ]
     },
     "execution_count": 212,
     "metadata": {},
     "output_type": "execute_result"
    }
   ],
   "source": [
    "mega.tail(1)"
   ]
  },
  {
   "cell_type": "code",
   "execution_count": 214,
   "id": "01b15ced-a922-4f95-b000-f739870c8da8",
   "metadata": {},
   "outputs": [],
   "source": [
    "mega['RPI'] = mega.apply(lambda x: (x['runs']/x['innings']),axis = 1)"
   ]
  },
  {
   "cell_type": "code",
   "execution_count": 216,
   "id": "6f3c8ed4-e879-434d-9864-9f7867e0d8c3",
   "metadata": {},
   "outputs": [
    {
     "data": {
      "text/html": [
       "<div>\n",
       "<style scoped>\n",
       "    .dataframe tbody tr th:only-of-type {\n",
       "        vertical-align: middle;\n",
       "    }\n",
       "\n",
       "    .dataframe tbody tr th {\n",
       "        vertical-align: top;\n",
       "    }\n",
       "\n",
       "    .dataframe thead th {\n",
       "        text-align: right;\n",
       "    }\n",
       "</style>\n",
       "<table border=\"1\" class=\"dataframe\">\n",
       "  <thead>\n",
       "    <tr style=\"text-align: right;\">\n",
       "      <th></th>\n",
       "      <th>batsman</th>\n",
       "      <th>innings</th>\n",
       "      <th>runs</th>\n",
       "      <th>balls</th>\n",
       "      <th>dismissals</th>\n",
       "      <th>fours</th>\n",
       "      <th>sixes</th>\n",
       "      <th>RPI</th>\n",
       "    </tr>\n",
       "  </thead>\n",
       "  <tbody>\n",
       "    <tr>\n",
       "      <th>175</th>\n",
       "      <td>du Plessis</td>\n",
       "      <td>14</td>\n",
       "      <td>730</td>\n",
       "      <td>483</td>\n",
       "      <td>13</td>\n",
       "      <td>60</td>\n",
       "      <td>36</td>\n",
       "      <td>52.142857</td>\n",
       "    </tr>\n",
       "  </tbody>\n",
       "</table>\n",
       "</div>"
      ],
      "text/plain": [
       "        batsman  innings  runs  balls  dismissals  fours  sixes        RPI\n",
       "175  du Plessis       14   730    483          13     60     36  52.142857"
      ]
     },
     "execution_count": 216,
     "metadata": {},
     "output_type": "execute_result"
    }
   ],
   "source": [
    "mega.tail(1)"
   ]
  },
  {
   "cell_type": "code",
   "execution_count": null,
   "id": "2da1e80d-aa65-4188-be7a-896a00d2a778",
   "metadata": {},
   "outputs": [],
   "source": []
  },
  {
   "cell_type": "code",
   "execution_count": null,
   "id": "648fcfe2-61fc-4907-9661-7b9918e3b056",
   "metadata": {},
   "outputs": [],
   "source": []
  },
  {
   "cell_type": "code",
   "execution_count": null,
   "id": "0c683ba4-6de3-4b0c-acf5-a829ea25255d",
   "metadata": {},
   "outputs": [],
   "source": []
  },
  {
   "cell_type": "code",
   "execution_count": 265,
   "id": "e8bedf92-c802-43b9-94d3-62ed8e574740",
   "metadata": {},
   "outputs": [
    {
     "data": {
      "text/plain": [
       "RangeIndex(start=0, stop=8991, step=1)"
      ]
     },
     "execution_count": 265,
     "metadata": {},
     "output_type": "execute_result"
    }
   ],
   "source": [
    "df[df.innings == 1].reset_index(drop = True).index"
   ]
  },
  {
   "cell_type": "code",
   "execution_count": null,
   "id": "17b62ada-b332-4adb-ae61-26809f8fa38c",
   "metadata": {},
   "outputs": [],
   "source": []
  },
  {
   "cell_type": "code",
   "execution_count": null,
   "id": "7b6a93ea-f39e-41df-9bbb-2c5c85b1d464",
   "metadata": {},
   "outputs": [],
   "source": []
  },
  {
   "cell_type": "code",
   "execution_count": 297,
   "id": "d594af7b-bdb8-48c5-a61f-d297ae226a47",
   "metadata": {},
   "outputs": [],
   "source": [
    "def ByInnings(df,current_innings):\n",
    "    \n",
    "    df = df[df.innings == current_innings]\n",
    "    df.reset_index(inplace = True,drop = True)\n",
    "    \n",
    "    df['isDot'] = df['runs_of_bat'].apply(lambda x: 1 if x == 0 else 0)\n",
    "    df['isOne'] = df['runs_of_bat'].apply(lambda x: 1 if x == 1 else 0)\n",
    "    df['isTwo'] = df['runs_of_bat'].apply(lambda x: 1 if x == 2 else 0)\n",
    "    df['isThree'] = df['runs_of_bat'].apply(lambda x: 1 if x == 3 else 0)\n",
    "    df['isFour'] = df['runs_of_bat'].apply(lambda x: 1 if x == 4 else 0)\n",
    "    df['isSix'] = df['runs_of_bat'].apply(lambda x: 1 if x == 6 else 0)\n",
    "    \n",
    "    runs = pd.DataFrame(df.groupby(['batsman'])['runs_of_bat'].sum()).reset_index().rename(columns={'runs_of_bat':'runs'})\n",
    "    innings = pd.DataFrame(df.groupby(['batsman'])['match_id'].apply(lambda x: len(list(np.unique(x))))).reset_index().rename(columns={'match_id':'innings'})\n",
    "    balls = pd.DataFrame(df.groupby(['batsman'])['match_id'].count()).reset_index().rename(columns={'match_id':'balls'})\n",
    "    dismissals = pd.DataFrame(df.groupby(['batsman'])['player_dismissed'].count()).reset_index().rename(columns={'player_dismissed':'dismissals'})\n",
    "    \n",
    "    df = pd.merge(innings,runs,on = 'batsman').merge( balls, on = 'batsman').merge( dismissals, on = 'batsman').merge( fours, on = 'batsman').merge( sixes, on = 'batsman')\n",
    "    df['RPI'] = df.apply(lambda x: (x['runs']/x['innings']),axis = 1)\n",
    "    return df\n"
   ]
  },
  {
   "cell_type": "code",
   "execution_count": null,
   "id": "b01438a2-a5fe-41bb-909a-88a3637f2541",
   "metadata": {},
   "outputs": [],
   "source": []
  },
  {
   "cell_type": "code",
   "execution_count": 299,
   "id": "3034a547-bebc-4d29-af52-3c7db4e100f8",
   "metadata": {},
   "outputs": [],
   "source": [
    "ing1_df = ByInnings(df,1)"
   ]
  },
  {
   "cell_type": "code",
   "execution_count": 301,
   "id": "85fa4bfd-af5d-44f0-8d1c-6f437999b13e",
   "metadata": {},
   "outputs": [],
   "source": [
    "ing2_df = ByInnings(df,2)"
   ]
  },
  {
   "cell_type": "code",
   "execution_count": null,
   "id": "c7d91da9-226c-47e5-82d9-9c41bd4f6f88",
   "metadata": {},
   "outputs": [],
   "source": []
  },
  {
   "cell_type": "code",
   "execution_count": null,
   "id": "4a97406d-5301-42da-bb8c-8ff6e6cace13",
   "metadata": {},
   "outputs": [],
   "source": []
  },
  {
   "cell_type": "code",
   "execution_count": 303,
   "id": "ca41fb26-2a6a-4d01-8b25-fabd8d44da29",
   "metadata": {},
   "outputs": [],
   "source": [
    "ing1_df = ing1_df[['batsman','RPI']].rename(columns = {'RPI':'ing1_rpi'})"
   ]
  },
  {
   "cell_type": "code",
   "execution_count": 305,
   "id": "e76de7e3-9a4a-4531-8307-c80fdb26055c",
   "metadata": {},
   "outputs": [
    {
     "data": {
      "text/html": [
       "<div>\n",
       "<style scoped>\n",
       "    .dataframe tbody tr th:only-of-type {\n",
       "        vertical-align: middle;\n",
       "    }\n",
       "\n",
       "    .dataframe tbody tr th {\n",
       "        vertical-align: top;\n",
       "    }\n",
       "\n",
       "    .dataframe thead th {\n",
       "        text-align: right;\n",
       "    }\n",
       "</style>\n",
       "<table border=\"1\" class=\"dataframe\">\n",
       "  <thead>\n",
       "    <tr style=\"text-align: right;\">\n",
       "      <th></th>\n",
       "      <th>batsman</th>\n",
       "      <th>ing1_rpi</th>\n",
       "    </tr>\n",
       "  </thead>\n",
       "  <tbody>\n",
       "    <tr>\n",
       "      <th>145</th>\n",
       "      <td>Yash Dhull</td>\n",
       "      <td>2.000000</td>\n",
       "    </tr>\n",
       "    <tr>\n",
       "      <th>146</th>\n",
       "      <td>Yudhvir Singh</td>\n",
       "      <td>0.500000</td>\n",
       "    </tr>\n",
       "    <tr>\n",
       "      <th>147</th>\n",
       "      <td>Zampa</td>\n",
       "      <td>4.000000</td>\n",
       "    </tr>\n",
       "    <tr>\n",
       "      <th>148</th>\n",
       "      <td>de Kock</td>\n",
       "      <td>22.000000</td>\n",
       "    </tr>\n",
       "    <tr>\n",
       "      <th>149</th>\n",
       "      <td>du Plessis</td>\n",
       "      <td>53.777778</td>\n",
       "    </tr>\n",
       "  </tbody>\n",
       "</table>\n",
       "</div>"
      ],
      "text/plain": [
       "           batsman   ing1_rpi\n",
       "145     Yash Dhull   2.000000\n",
       "146  Yudhvir Singh   0.500000\n",
       "147          Zampa   4.000000\n",
       "148        de Kock  22.000000\n",
       "149     du Plessis  53.777778"
      ]
     },
     "execution_count": 305,
     "metadata": {},
     "output_type": "execute_result"
    }
   ],
   "source": [
    "ing1_df.tail()"
   ]
  },
  {
   "cell_type": "code",
   "execution_count": 307,
   "id": "e0c4dbb8-db06-4313-acdd-261cf8491f9d",
   "metadata": {},
   "outputs": [],
   "source": [
    "ing2_df = ing2_df[['batsman','RPI']].rename(columns = {'RPI':'ing2_rpi'})"
   ]
  },
  {
   "cell_type": "code",
   "execution_count": 293,
   "id": "2ed6347f-ef0d-4907-aad7-bb525c554fc5",
   "metadata": {},
   "outputs": [
    {
     "data": {
      "text/html": [
       "<div>\n",
       "<style scoped>\n",
       "    .dataframe tbody tr th:only-of-type {\n",
       "        vertical-align: middle;\n",
       "    }\n",
       "\n",
       "    .dataframe tbody tr th {\n",
       "        vertical-align: top;\n",
       "    }\n",
       "\n",
       "    .dataframe thead th {\n",
       "        text-align: right;\n",
       "    }\n",
       "</style>\n",
       "<table border=\"1\" class=\"dataframe\">\n",
       "  <thead>\n",
       "    <tr style=\"text-align: right;\">\n",
       "      <th></th>\n",
       "      <th>batsman</th>\n",
       "      <th>ing2_rpi</th>\n",
       "    </tr>\n",
       "  </thead>\n",
       "  <tbody>\n",
       "    <tr>\n",
       "      <th>148</th>\n",
       "      <td>Willey</td>\n",
       "      <td>26.285714</td>\n",
       "    </tr>\n",
       "    <tr>\n",
       "      <th>149</th>\n",
       "      <td>Yash Dhull</td>\n",
       "      <td>7.500000</td>\n",
       "    </tr>\n",
       "    <tr>\n",
       "      <th>150</th>\n",
       "      <td>Zampa</td>\n",
       "      <td>38.133333</td>\n",
       "    </tr>\n",
       "    <tr>\n",
       "      <th>151</th>\n",
       "      <td>de Kock</td>\n",
       "      <td>2.000000</td>\n",
       "    </tr>\n",
       "    <tr>\n",
       "      <th>152</th>\n",
       "      <td>du Plessis</td>\n",
       "      <td>12.555556</td>\n",
       "    </tr>\n",
       "  </tbody>\n",
       "</table>\n",
       "</div>"
      ],
      "text/plain": [
       "        batsman   ing2_rpi\n",
       "148      Willey  26.285714\n",
       "149  Yash Dhull   7.500000\n",
       "150       Zampa  38.133333\n",
       "151     de Kock   2.000000\n",
       "152  du Plessis  12.555556"
      ]
     },
     "execution_count": 293,
     "metadata": {},
     "output_type": "execute_result"
    }
   ],
   "source": [
    "ing2_df.tail()"
   ]
  },
  {
   "cell_type": "code",
   "execution_count": 309,
   "id": "ae096a92-2331-47b2-bd65-d8a6921b7942",
   "metadata": {},
   "outputs": [],
   "source": [
    "comb= pd.merge(ing1_df,ing2_df, on = 'batsman')"
   ]
  },
  {
   "cell_type": "code",
   "execution_count": 311,
   "id": "a8fecaa6-341a-4138-95ac-7d3b5465f249",
   "metadata": {},
   "outputs": [],
   "source": [
    "comb = pd.merge(ing1_df,ing2_df,on='batsman', how = 'outer')"
   ]
  },
  {
   "cell_type": "code",
   "execution_count": 315,
   "id": "9fd516ef-39c0-4a78-af06-ded53e23b847",
   "metadata": {},
   "outputs": [
    {
     "data": {
      "image/png": "[encoded data removed]",
      "text/plain": [
       "<Figure size 640x480 with 1 Axes>"
      ]
     },
     "metadata": {},
     "output_type": "display_data"
    }
   ],
   "source": [
    "plt.scatter(comb['ing1_rpi'], comb['ing2_rpi'])\n",
    "selected_player = ['du Plessis','Kohli','Will Jacks','Abhishek Sharma']\n",
    "annotation = list(comb['batsman'])\n",
    "plt.xlabel(\"1st Innings  RPI\")\n",
    "plt.ylabel(\"2nd Innings  RPI\")\n",
    "plt.title(\"Scatter Plot of compare both Innings\")\n",
    "\n",
    "for i, j in enumerate(annotation):\n",
    "    if j in selected_player:\n",
    "        plt.annotate(j,(comb['ing1_rpi'][i], comb['ing2_rpi'][i]))\n",
    "    \n",
    "plt.show()"
   ]
  },
  {
   "cell_type": "code",
   "execution_count": null,
   "id": "a922a462-38d2-4b04-87a2-543d38a2aa98",
   "metadata": {},
   "outputs": [],
   "source": []
  },
  {
   "cell_type": "code",
   "execution_count": null,
   "id": "feaed12d-790e-49d1-b640-0f787e59b852",
   "metadata": {},
   "outputs": [],
   "source": []
  },
  {
   "cell_type": "code",
   "execution_count": null,
   "id": "c4ffd429-e537-40d4-83df-4c296b91cf32",
   "metadata": {},
   "outputs": [],
   "source": []
  },
  {
   "cell_type": "code",
   "execution_count": null,
   "id": "c2800525-e513-4dd4-81b2-69590b862673",
   "metadata": {},
   "outputs": [],
   "source": []
  },
  {
   "cell_type": "code",
   "execution_count": null,
   "id": "2ec09b52-2b70-48de-89f5-07f48d45c854",
   "metadata": {},
   "outputs": [],
   "source": []
  },
  {
   "cell_type": "code",
   "execution_count": null,
   "id": "8954e76d-8520-4ce7-a7b2-8187c020688f",
   "metadata": {},
   "outputs": [],
   "source": []
  },
  {
   "cell_type": "code",
   "execution_count": null,
   "id": "45f2ab4d-4ffe-4731-bacc-f703ff459457",
   "metadata": {},
   "outputs": [],
   "source": []
  },
  {
   "cell_type": "code",
   "execution_count": null,
   "id": "9be49e95-9bef-42ae-9efb-063ca346cbb3",
   "metadata": {},
   "outputs": [],
   "source": []
  },
  {
   "cell_type": "code",
   "execution_count": null,
   "id": "a93706f2-f1b7-48de-96e2-57185bc3dab7",
   "metadata": {},
   "outputs": [],
   "source": []
  },
  {
   "cell_type": "code",
   "execution_count": 12,
   "id": "ea5aa715-d1a9-4098-8adc-a5f14b04a430",
   "metadata": {},
   "outputs": [],
   "source": [
    "def balls_per_dismissal(balls, dismissals):\n",
    "    if dismissals > 0:\n",
    "        return balls/dismissals\n",
    "    else:\n",
    "        return balls/1 \n",
    "    \n",
    "def balls_per_boundary(balls, boundaries):\n",
    "    if boundaries > 0:\n",
    "        return balls/boundaries\n",
    "    else:\n",
    "        return balls/1 \n",
    "\n",
    "def playerStatistics(df):\n",
    "    \n",
    "    df['isDot'] = df['batsman_runs'].apply(lambda x: 1 if x == 0 else 0)\n",
    "    df['isOne'] = df['batsman_runs'].apply(lambda x: 1 if x == 1 else 0)\n",
    "    df['isTwo'] = df['batsman_runs'].apply(lambda x: 1 if x == 2 else 0)\n",
    "    df['isThree'] = df['batsman_runs'].apply(lambda x: 1 if x == 3 else 0)\n",
    "    df['isFour'] = df['batsman_runs'].apply(lambda x: 1 if x == 4 else 0)\n",
    "    df['isSix'] = df['batsman_runs'].apply(lambda x: 1 if x == 6 else 0)\n",
    "    \n",
    "    runs = pd.DataFrame(df.groupby(['batsman'])['batsman_runs'].sum().reset_index()).groupby(['batsman'])['batsman_runs'].sum().reset_index().rename(columns={'batsman_runs':'runs'})\n",
    "    innings = pd.DataFrame(df.groupby(['batsman'])['match_id'].apply(lambda x: len(list(np.unique(x)))).reset_index()).rename(columns = {'match_id':'innings'})\n",
    "    balls = pd.DataFrame(df.groupby(['batsman'])['match_id'].count()).reset_index().rename(columns = {'match_id':'balls'})\n",
    "    dismissals = pd.DataFrame(df.groupby(['batsman'])['player_dismissed'].count()).reset_index().rename(columns = {'player_dismissed':'dismissals'})\n",
    "    \n",
    "    dots = pd.DataFrame(df.groupby(['batsman'])['isDot'].sum()).reset_index().rename(columns = {'isDot':'dots'})\n",
    "    ones = pd.DataFrame(df.groupby(['batsman'])['isOne'].sum()).reset_index().rename(columns = {'isOne':'ones'})\n",
    "    twos = pd.DataFrame(df.groupby(['batsman'])['isTwo'].sum()).reset_index().rename(columns = {'isTwo':'twos'})\n",
    "    threes = pd.DataFrame(df.groupby(['batsman'])['isThree'].sum()).reset_index().rename(columns = {'isThree':'threes'})\n",
    "    fours = pd.DataFrame(df.groupby(['batsman'])['isFour'].sum()).reset_index().rename(columns = {'isFour':'fours'})\n",
    "    sixes = pd.DataFrame(df.groupby(['batsman'])['isSix'].sum()).reset_index().rename(columns = {'isSix':'sixes'})\n",
    "    \n",
    "    df = pd.merge(innings, runs, on = 'batsman').merge(balls, on = 'batsman').merge(dismissals, on = 'batsman').merge(dots, on = 'batsman').merge(ones, on = 'batsman').merge(twos, on = 'batsman').merge(threes, on = 'batsman').merge(fours, on = 'batsman').merge(sixes, on = 'batsman')\n",
    "    \n",
    "    #StrikeRate\n",
    "    df['SR'] = df.apply(lambda x: 100*(x['runs']/x['balls']), axis = 1)\n",
    "\n",
    "    #runs per innings\n",
    "    df['RPI'] = df.apply(lambda x: x['runs']/x['innings'], axis = 1)\n",
    "\n",
    "    #balls per dismissals\n",
    "    df['BPD'] = df.apply(lambda x: balls_per_dismissal(x['balls'], x['dismissals']), axis = 1)\n",
    "\n",
    "    #balls per boundary\n",
    "    df['BPB'] = df.apply(lambda x: balls_per_boundary(x['balls'], (x['fours'] + x['sixes'])), axis = 1)\n",
    "    \n",
    "    return df"
   ]
  },
  {
   "cell_type": "code",
   "execution_count": null,
   "id": "d0d5c6a5-2042-49d1-9adb-2d179f4bbaee",
   "metadata": {},
   "outputs": [],
   "source": [
    "df[df["
   ]
  },
  {
   "cell_type": "code",
   "execution_count": null,
   "id": "f59d8912-41fa-44ee-b1fe-19f740d51d3a",
   "metadata": {},
   "outputs": [],
   "source": []
  },
  {
   "cell_type": "code",
   "execution_count": null,
   "id": "2e56b08d-1076-4e0f-92ae-a9fbbb5897fe",
   "metadata": {},
   "outputs": [],
   "source": []
  },
  {
   "cell_type": "code",
   "execution_count": null,
   "id": "a163f1e6-929f-4a2a-af14-d3bff9c8600d",
   "metadata": {},
   "outputs": [],
   "source": []
  },
  {
   "cell_type": "code",
   "execution_count": null,
   "id": "d414da4d-8762-448b-9b1b-9a81b1300672",
   "metadata": {},
   "outputs": [],
   "source": []
  },
  {
   "cell_type": "code",
   "execution_count": null,
   "id": "97252910-e402-49e9-82eb-8e7b7747a2d1",
   "metadata": {},
   "outputs": [],
   "source": []
  },
  {
   "cell_type": "code",
   "execution_count": null,
   "id": "af1566fd-1b95-4027-b98c-f20779c96bda",
   "metadata": {},
   "outputs": [],
   "source": []
  },
  {
   "cell_type": "code",
   "execution_count": null,
   "id": "d2b566cc-244d-478d-8c93-bad3125926c6",
   "metadata": {},
   "outputs": [],
   "source": []
  },
  {
   "cell_type": "code",
   "execution_count": null,
   "id": "798f186c-5357-4b4b-aabb-f6cf8aad327a",
   "metadata": {},
   "outputs": [],
   "source": []
  },
  {
   "cell_type": "code",
   "execution_count": null,
   "id": "866eac48-6323-40e5-bca3-5ba467332615",
   "metadata": {},
   "outputs": [],
   "source": []
  },
  {
   "cell_type": "code",
   "execution_count": null,
   "id": "fc90a137-69c5-4f52-a3e6-9d3632625ba7",
   "metadata": {},
   "outputs": [],
   "source": []
  },
  {
   "cell_type": "code",
   "execution_count": null,
   "id": "8ea8db5e-099b-4cc5-a1a8-8d5bb2a9d1a9",
   "metadata": {},
   "outputs": [],
   "source": []
  },
  {
   "cell_type": "code",
   "execution_count": null,
   "id": "ff3fe226-818b-4be4-87b7-458cf568615e",
   "metadata": {},
   "outputs": [],
   "source": []
  },
  {
   "cell_type": "code",
   "execution_count": null,
   "id": "b52a7bb8-19a4-4a0b-9ec4-8e23ab6e4bc2",
   "metadata": {},
   "outputs": [],
   "source": []
  },
  {
   "cell_type": "code",
   "execution_count": 24,
   "id": "e54ffa1e-85d2-43db-990d-8e92236027f7",
   "metadata": {},
   "outputs": [],
   "source": [
    "def ByInnings(df, current_innings):\n",
    "    df = df[df.inning == current_innings]\n",
    "    df.reset_index(inplace=True, drop=True)\n",
    "    df['isDot'] = df['batsman_runs'].apply(lambda x: 1 if x == 0 else 0)\n",
    "    df['isOne'] = df['batsman_runs'].apply(lambda x: 1 if x == 1 else 0)\n",
    "    df['isTwo'] = df['batsman_runs'].apply(lambda x: 1 if x == 2 else 0)\n",
    "    df['isThree'] = df['batsman_runs'].apply(lambda x: 1 if x == 3 else 0)\n",
    "    df['isFours'] = df['batsman_runs'].apply(lambda x: 1 if x == 4 else 0)\n",
    "    df['isSix'] = df['batsman_runs'].apply(lambda x: 1 if x == 6 else 0)\n",
    "\n",
    "    runs = pd.DataFrame(df.groupby(['batter'])['batsman_runs'].sum()).reset_index().rename(columns={'batsman_runs': 'runs'})\n",
    "    balls = pd.DataFrame(df.groupby(['batter'])['match_id'].count()).reset_index().rename(columns={'match_id': 'balls'})\n",
    "    innings = pd.DataFrame(df.groupby(['batter'])['match_id'].apply(lambda x: len(list(np.unique(x))))).reset_index().rename(columns={'match_id': 'innings'})\n",
    "    dismissals = pd.DataFrame(df.groupby(['batter'])['player_dismissed'].count()).reset_index().rename(columns={'player_dismissed': 'dismissals'})\n",
    "    Sixes = pd.DataFrame(df.groupby(['batter'])['isSix'].sum()).reset_index().rename(columns={'isSix': 'Sixes'})\n",
    "    Fours = pd.DataFrame(df.groupby(['batter'])['isFours'].sum()).reset_index().rename(columns={'isFours': 'Fours'})\n",
    "\n",
    "    df = pd.merge(innings,runs,on ='batter').merge(balls,on ='batter').merge(dismissals,on ='batter').merge(Fours,on ='batter').merge(Sixes,on ='batter')\n",
    "    df['RPI']=df.apply(lambda x:(x['runs']/x['innings']),axis=1)\n",
    "    return df"
   ]
  },
  {
   "cell_type": "code",
   "execution_count": null,
   "id": "e32c9f64-f50e-4a87-81f0-cbe145f82592",
   "metadata": {},
   "outputs": [],
   "source": []
  },
  {
   "cell_type": "code",
   "execution_count": null,
   "id": "8c3291c6-ca41-4b84-b7d1-d5ea2c7b8e21",
   "metadata": {},
   "outputs": [],
   "source": []
  },
  {
   "cell_type": "code",
   "execution_count": 26,
   "id": "0ce5bb96-8875-4c20-8a6d-250a0ecbef89",
   "metadata": {},
   "outputs": [
    {
     "ename": "AttributeError",
     "evalue": "'DataFrame' object has no attribute 'runs'",
     "output_type": "error",
     "traceback": [
      "\u001b[1;31m---------------------------------------------------------------------------\u001b[0m",
      "\u001b[1;31mAttributeError\u001b[0m                            Traceback (most recent call last)",
      "\u001b[1;32m~\\AppData\\Local\\Temp\\ipykernel_8156\\3547929396.py\u001b[0m in \u001b[0;36m?\u001b[1;34m()\u001b[0m\n\u001b[1;32m----> 1\u001b[1;33m \u001b[0mdf\u001b[0m\u001b[1;33m.\u001b[0m\u001b[0mruns\u001b[0m\u001b[1;33m(\u001b[0m\u001b[1;36m1\u001b[0m\u001b[1;33m)\u001b[0m\u001b[1;33m\u001b[0m\u001b[1;33m\u001b[0m\u001b[0m\n\u001b[0m",
      "\u001b[1;32m~\\anaconda3\\Lib\\site-packages\\pandas\\core\\generic.py\u001b[0m in \u001b[0;36m?\u001b[1;34m(self, name)\u001b[0m\n\u001b[0;32m   6295\u001b[0m             \u001b[1;32mand\u001b[0m \u001b[0mname\u001b[0m \u001b[1;32mnot\u001b[0m \u001b[1;32min\u001b[0m \u001b[0mself\u001b[0m\u001b[1;33m.\u001b[0m\u001b[0m_accessors\u001b[0m\u001b[1;33m\u001b[0m\u001b[1;33m\u001b[0m\u001b[0m\n\u001b[0;32m   6296\u001b[0m             \u001b[1;32mand\u001b[0m \u001b[0mself\u001b[0m\u001b[1;33m.\u001b[0m\u001b[0m_info_axis\u001b[0m\u001b[1;33m.\u001b[0m\u001b[0m_can_hold_identifiers_and_holds_name\u001b[0m\u001b[1;33m(\u001b[0m\u001b[0mname\u001b[0m\u001b[1;33m)\u001b[0m\u001b[1;33m\u001b[0m\u001b[1;33m\u001b[0m\u001b[0m\n\u001b[0;32m   6297\u001b[0m         \u001b[1;33m)\u001b[0m\u001b[1;33m:\u001b[0m\u001b[1;33m\u001b[0m\u001b[1;33m\u001b[0m\u001b[0m\n\u001b[0;32m   6298\u001b[0m             \u001b[1;32mreturn\u001b[0m \u001b[0mself\u001b[0m\u001b[1;33m[\u001b[0m\u001b[0mname\u001b[0m\u001b[1;33m]\u001b[0m\u001b[1;33m\u001b[0m\u001b[1;33m\u001b[0m\u001b[0m\n\u001b[1;32m-> 6299\u001b[1;33m         \u001b[1;32mreturn\u001b[0m \u001b[0mobject\u001b[0m\u001b[1;33m.\u001b[0m\u001b[0m__getattribute__\u001b[0m\u001b[1;33m(\u001b[0m\u001b[0mself\u001b[0m\u001b[1;33m,\u001b[0m \u001b[0mname\u001b[0m\u001b[1;33m)\u001b[0m\u001b[1;33m\u001b[0m\u001b[1;33m\u001b[0m\u001b[0m\n\u001b[0m",
      "\u001b[1;31mAttributeError\u001b[0m: 'DataFrame' object has no attribute 'runs'"
     ]
    }
   ],
   "source": [
    "df.runs(1)"
   ]
  },
  {
   "cell_type": "code",
   "execution_count": null,
   "id": "84a78e0c-0d1d-4683-885c-b77d9286d53e",
   "metadata": {},
   "outputs": [],
   "source": []
  }
 ],
 "metadata": {
  "kernelspec": {
   "display_name": "Python [conda env:base] *",
   "language": "python",
   "name": "conda-base-py"
  },
  "language_info": {
   "codemirror_mode": {
    "name": "ipython",
    "version": 3
   },
   "file_extension": ".py",
   "mimetype": "text/x-python",
   "name": "python",
   "nbconvert_exporter": "python",
   "pygments_lexer": "ipython3",
   "version": "3.12.7"
  }
 },
 "nbformat": 4,
 "nbformat_minor": 5
}
